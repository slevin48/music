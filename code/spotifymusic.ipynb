{
 "cells": [
  {
   "cell_type": "markdown",
   "metadata": {},
   "source": [
    "# Spotify music recommendation\n",
    "* https://dev.to/mxdws/using-python-with-the-spotify-api-1d02\n",
    "* https://medium.com/analytics-vidhya/build-your-own-playlist-generator-with-spotifys-api-in-python-ceb883938ce4\n",
    "* https://towardsdatascience.com/get-your-spotify-streaming-history-with-python-d5a208bbcbd3\n",
    "* https://medium.com/python-in-plain-english/music-recommendation-system-for-djs-d253d472677e\n",
    "* https://github.com/tgel0/spotify-data\n",
    "* https://towardsdatascience.com/a-visual-look-at-my-taste-in-music-a8c197a728be\n",
    "* https://towardsdatascience.com/how-to-utilize-spotifys-api-and-create-a-user-interface-in-streamlit-5d8820db95d5\n",
    "* https://medium.com/deep-learning-turkey/build-your-own-spotify-playlist-of-best-playlist-recommendations-fc9ebe92826a"
   ]
  },
  {
   "cell_type": "markdown",
   "metadata": {},
   "source": [
    "Before diving in, let's play some music:\n",
    "\n",
    "[Lucy in the Sky with Diamonds](https://open.spotify.com/track/25yQPHgC35WNnnOUqFhgVR)"
   ]
  },
  {
   "cell_type": "code",
   "execution_count": 1,
   "metadata": {},
   "outputs": [
    {
     "data": {
      "text/plain": [
       "True"
      ]
     },
     "execution_count": 1,
     "metadata": {},
     "output_type": "execute_result"
    }
   ],
   "source": [
    "lucy_id = \"25yQPHgC35WNnnOUqFhgVR\"\n",
    "url = \"https://open.spotify.com/track/\"+lucy_id\n",
    "import webbrowser\n",
    "webbrowser.open(url)"
   ]
  },
  {
   "cell_type": "markdown",
   "metadata": {},
   "source": [
    "## Spotipy\n",
    "\n",
    "https://spotipy.readthedocs.io/\n"
   ]
  },
  {
   "cell_type": "code",
   "execution_count": 2,
   "metadata": {},
   "outputs": [],
   "source": [
    "import os, tomllib\n",
    "with open(\"../.streamlit/secrets.toml\", \"rb\") as f:\n",
    "    secrets = tomllib.load(f)\n",
    "os.environ[\"SPOTIPY_CLIENT_ID\"] = secrets['clientId']\n",
    "os.environ[\"SPOTIPY_CLIENT_SECRET\"] = secrets['clientSecret']\n",
    "os.environ[\"SPOTIPY_REDIRECT_URI\"] = \"https://open.spotify.com/\""
   ]
  },
  {
   "cell_type": "code",
   "execution_count": 3,
   "metadata": {},
   "outputs": [],
   "source": [
    "import spotipy\n",
    "from spotipy.oauth2 import SpotifyClientCredentials\n",
    "\n",
    "auth_manager = SpotifyClientCredentials()"
   ]
  },
  {
   "cell_type": "code",
   "execution_count": 4,
   "metadata": {},
   "outputs": [],
   "source": [
    "sp = spotipy.Spotify(auth_manager = auth_manager)"
   ]
  },
  {
   "cell_type": "markdown",
   "metadata": {},
   "source": [
    "### Search track"
   ]
  },
  {
   "cell_type": "code",
   "execution_count": 5,
   "metadata": {},
   "outputs": [
    {
     "name": "stdout",
     "output_type": "stream",
     "text": [
      "Lucy In The Sky With Diamonds - Remastered 2009 - The Beatles\n",
      "Lucy In The Sky With Diamonds - Remastered 2017 - The Beatles\n",
      "Lucy In The Sky With Diamonds - Elton John\n",
      "Lucy In The Sky With Diamonds - The Beatles\n",
      "Lucy In The Sky With Diamonds - Remix - The Beatles\n",
      "Lucy In The Sky With Diamonds - 2017 Mix - The Beatles\n",
      "Lucy In The Sky With Diamonds - The Beatles\n",
      "Lucy in the Sky With Diamonds - Happy Baby Lullaby Band\n",
      "Lucy In The Sky With Diamonds - Remastered 2009 - The Beatles\n",
      "Lucy In The Sky With Diamonds - From \"Across The Universe\" Soundtrack - Bono\n"
     ]
    }
   ],
   "source": [
    "results = sp.search(q='track:'+'lucy in th sky with diamonds',type='track')\n",
    "items = results['tracks']['items']\n",
    "if len(items) > 0:\n",
    "    # tracks = items[0]\n",
    "    for tracks in items:\n",
    "        print(tracks['name'] + \" - \" + tracks['artists'][0]['name'])"
   ]
  },
  {
   "cell_type": "code",
   "execution_count": 6,
   "metadata": {},
   "outputs": [
    {
     "data": {
      "text/plain": [
       "[{'track_id': '25yQPHgC35WNnnOUqFhgVR',\n",
       "  'track_name': 'Lucy In The Sky With Diamonds - Remastered 2009',\n",
       "  'artist_name': 'The Beatles',\n",
       "  'album_name': \"Sgt. Pepper's Lonely Hearts Club Band (Remastered)\",\n",
       "  'album_url': 'https://i.scdn.co/image/ab67616d00001e0234ef8f7d06cf2fc2146f420a'},\n",
       " {'track_id': '2iIRl5jf9beA2ExZWzn2nt',\n",
       "  'track_name': 'Lucy In The Sky With Diamonds - Remastered 2017',\n",
       "  'artist_name': 'The Beatles',\n",
       "  'album_name': \"Sgt. Pepper's Lonely Hearts Club Band (Super Deluxe Edition)\",\n",
       "  'album_url': 'https://i.scdn.co/image/ab67616d00001e02c92b57b8307e5999ec2fed69'},\n",
       " {'track_id': '13JsYnkF16pHKuOFG6uI1C',\n",
       "  'track_name': 'Lucy In The Sky With Diamonds',\n",
       "  'artist_name': 'Elton John',\n",
       "  'album_name': 'Captain Fantastic And The Brown Dirt Cowboy',\n",
       "  'album_url': 'https://i.scdn.co/image/ab67616d00001e02c5e7f836740ccdcc19960b73'},\n",
       " {'track_id': '5wLkhxwU7B9DNglfZAIrQ8',\n",
       "  'track_name': 'Lucy In The Sky With Diamonds',\n",
       "  'artist_name': 'The Beatles',\n",
       "  'album_name': 'Yellow Submarine Songtrack',\n",
       "  'album_url': 'https://i.scdn.co/image/ab67616d00001e02d807dd713cdfbeed142881e2'},\n",
       " {'track_id': '5od7xyJpszivAXNkBc5SL8',\n",
       "  'track_name': 'Lucy In The Sky With Diamonds - Remix',\n",
       "  'artist_name': 'The Beatles',\n",
       "  'album_name': \"Sgt. Pepper's Lonely Hearts Club Band (Deluxe Edition)\",\n",
       "  'album_url': 'https://i.scdn.co/image/ab67616d00001e0248eeac769c253bfc05a0d1fc'},\n",
       " {'track_id': '4GX8I8c7gMZn7mZFM9QAs0',\n",
       "  'track_name': 'Lucy In The Sky With Diamonds - 2017 Mix',\n",
       "  'artist_name': 'The Beatles',\n",
       "  'album_name': 'The Beatles 1967 – 1970 (2023 Edition)',\n",
       "  'album_url': 'https://i.scdn.co/image/ab67616d00001e022ad20d4688bdc999413ece39'},\n",
       " {'track_id': '068kw8ocU8Nqgk96slYAUK',\n",
       "  'track_name': 'Lucy In The Sky With Diamonds',\n",
       "  'artist_name': 'The Beatles',\n",
       "  'album_name': 'Love',\n",
       "  'album_url': 'https://i.scdn.co/image/ab67616d00001e0230503dbc30e621c96913379b'},\n",
       " {'track_id': '4wyiG7fZNvK6R7YvkL06rw',\n",
       "  'track_name': 'Lucy in the Sky With Diamonds',\n",
       "  'artist_name': 'Happy Baby Lullaby Band',\n",
       "  'album_name': \"Baby Beatles Lullaby Children Songs: Sweet Lullaby Renditions of Beatles Fav's Help Rock a Bye Your Kids & Baby to Sleep, Vol.2\",\n",
       "  'album_url': 'https://i.scdn.co/image/ab67616d00001e02582dc32b28ed797eba640140'},\n",
       " {'track_id': '0L5bImqubaaVKPnbD6MI0x',\n",
       "  'track_name': 'Lucy In The Sky With Diamonds - Remastered 2009',\n",
       "  'artist_name': 'The Beatles',\n",
       "  'album_name': 'The Beatles 1967 - 1970 (Remastered)',\n",
       "  'album_url': 'https://i.scdn.co/image/ab67616d00001e026e3d3c964df32136fb1cd594'},\n",
       " {'track_id': '7eyNpJhRRm3q8uHLkrFzmQ',\n",
       "  'track_name': 'Lucy In The Sky With Diamonds - From \"Across The Universe\" Soundtrack',\n",
       "  'artist_name': 'Bono',\n",
       "  'album_name': 'Across The Universe',\n",
       "  'album_url': 'https://i.scdn.co/image/ab67616d00001e025c3e6bc8c0ddcc78d85fac6a'}]"
      ]
     },
     "execution_count": 6,
     "metadata": {},
     "output_type": "execute_result"
    }
   ],
   "source": [
    "track_results = []\n",
    "for item in items:\n",
    "    track_id = item['id']\n",
    "    track_name = item['name']\n",
    "    artist_name = item['artists'][0]['name']\n",
    "    album_name = item['album']['name']\n",
    "    album_url = item['album']['images'][1]['url']\n",
    "    track_results.append({\n",
    "        'track_id': track_id,\n",
    "        'track_name': track_name,\n",
    "        'artist_name': artist_name,\n",
    "        'album_name': album_name,\n",
    "        'album_url': album_url\n",
    "    })\n",
    "track_results"
   ]
  },
  {
   "cell_type": "code",
   "execution_count": 7,
   "metadata": {},
   "outputs": [
    {
     "data": {
      "text/plain": [
       "'Lucy In The Sky With Diamonds - Remastered 2009'"
      ]
     },
     "execution_count": 7,
     "metadata": {},
     "output_type": "execute_result"
    }
   ],
   "source": [
    "track_name = results['tracks']['items'][0]['name']\n",
    "track_name"
   ]
  },
  {
   "cell_type": "code",
   "execution_count": 8,
   "metadata": {},
   "outputs": [
    {
     "data": {
      "text/plain": [
       "'25yQPHgC35WNnnOUqFhgVR'"
      ]
     },
     "execution_count": 8,
     "metadata": {},
     "output_type": "execute_result"
    }
   ],
   "source": [
    "track_id = results['tracks']['items'][0]['id']\n",
    "track_id"
   ]
  },
  {
   "cell_type": "code",
   "execution_count": 9,
   "metadata": {},
   "outputs": [
    {
     "data": {
      "text/plain": [
       "'The Beatles'"
      ]
     },
     "execution_count": 9,
     "metadata": {},
     "output_type": "execute_result"
    }
   ],
   "source": [
    "track_artist = results['tracks']['items'][0]['artists'][0]['name']\n",
    "track_artist"
   ]
  },
  {
   "cell_type": "code",
   "execution_count": 10,
   "metadata": {},
   "outputs": [
    {
     "data": {
      "text/plain": [
       "'3WrFJ7ztbogyGnTHbHJFl2'"
      ]
     },
     "execution_count": 10,
     "metadata": {},
     "output_type": "execute_result"
    }
   ],
   "source": [
    "track_artist_id = results['tracks']['items'][0]['artists'][0]['id']\n",
    "track_artist_id"
   ]
  },
  {
   "cell_type": "code",
   "execution_count": 11,
   "metadata": {},
   "outputs": [
    {
     "data": {
      "text/plain": [
       "\"Sgt. Pepper's Lonely Hearts Club Band (Remastered)\""
      ]
     },
     "execution_count": 11,
     "metadata": {},
     "output_type": "execute_result"
    }
   ],
   "source": [
    "track_album = results['tracks']['items'][0]['album']['name']\n",
    "track_album"
   ]
  },
  {
   "cell_type": "code",
   "execution_count": 12,
   "metadata": {},
   "outputs": [
    {
     "data": {
      "text/plain": [
       "'6QaVfG1pHYl1z15ZxkvVDW'"
      ]
     },
     "execution_count": 12,
     "metadata": {},
     "output_type": "execute_result"
    }
   ],
   "source": [
    "track_album_id = results['tracks']['items'][0]['album']['id']\n",
    "track_album_id"
   ]
  },
  {
   "cell_type": "code",
   "execution_count": 13,
   "metadata": {},
   "outputs": [
    {
     "data": {
      "text/plain": [
       "67663"
      ]
     },
     "execution_count": 13,
     "metadata": {},
     "output_type": "execute_result"
    }
   ],
   "source": [
    "img_album = results['tracks']['items'][0]['album']['images'][1]['url']\n",
    "import requests\n",
    "r = requests.get(img_album)\n",
    "open('../img/'+track_id+'.jpg', 'wb').write(r.content)"
   ]
  },
  {
   "cell_type": "code",
   "execution_count": 14,
   "metadata": {},
   "outputs": [
    {
     "data": {
      "image/jpeg": "[encoded data removed]",
      "text/plain": [
       "<IPython.core.display.Image object>"
      ]
     },
     "execution_count": 14,
     "metadata": {},
     "output_type": "execute_result"
    }
   ],
   "source": [
    "from IPython.display import Image\n",
    "Image(filename='../img/'+track_id+'.jpg') "
   ]
  },
  {
   "cell_type": "markdown",
   "metadata": {},
   "source": [
    "### Get Track by id\n"
   ]
  },
  {
   "cell_type": "markdown",
   "metadata": {},
   "source": [
    "![track dict](../img/track.png)"
   ]
  },
  {
   "cell_type": "code",
   "execution_count": 12,
   "metadata": {},
   "outputs": [
    {
     "name": "stdout",
     "output_type": "stream",
     "text": [
      "Lucy In The Sky With Diamonds - Remastered 2009 - Sgt. Pepper's Lonely Hearts Club Band (Remastered)\n"
     ]
    }
   ],
   "source": [
    "# Lucy in the Sky with Diamonds\n",
    "lucy_id = '25yQPHgC35WNnnOUqFhgVR'\n",
    "track = sp.track(lucy_id) \n",
    "# track\n",
    "print(track['name']+' - '+track['album']['name'])"
   ]
  },
  {
   "cell_type": "markdown",
   "metadata": {},
   "source": [
    "### Get Features"
   ]
  },
  {
   "cell_type": "code",
   "execution_count": 15,
   "metadata": {},
   "outputs": [
    {
     "data": {
      "text/plain": [
       "[{'danceability': 0.311,\n",
       "  'energy': 0.325,\n",
       "  'key': 2,\n",
       "  'loudness': -9.042,\n",
       "  'mode': 1,\n",
       "  'speechiness': 0.0283,\n",
       "  'acousticness': 0.0469,\n",
       "  'instrumentalness': 0,\n",
       "  'liveness': 0.139,\n",
       "  'valence': 0.668,\n",
       "  'tempo': 65.09,\n",
       "  'type': 'audio_features',\n",
       "  'id': '25yQPHgC35WNnnOUqFhgVR',\n",
       "  'uri': 'spotify:track:25yQPHgC35WNnnOUqFhgVR',\n",
       "  'track_href': 'https://api.spotify.com/v1/tracks/25yQPHgC35WNnnOUqFhgVR',\n",
       "  'analysis_url': 'https://api.spotify.com/v1/audio-analysis/25yQPHgC35WNnnOUqFhgVR',\n",
       "  'duration_ms': 208467,\n",
       "  'time_signature': 1}]"
      ]
     },
     "execution_count": 15,
     "metadata": {},
     "output_type": "execute_result"
    }
   ],
   "source": [
    "track_features = sp.audio_features(lucy_id)\n",
    "track_features"
   ]
  },
  {
   "cell_type": "code",
   "execution_count": 16,
   "metadata": {},
   "outputs": [
    {
     "data": {
      "text/html": [
       "<div>\n",
       "<style scoped>\n",
       "    .dataframe tbody tr th:only-of-type {\n",
       "        vertical-align: middle;\n",
       "    }\n",
       "\n",
       "    .dataframe tbody tr th {\n",
       "        vertical-align: top;\n",
       "    }\n",
       "\n",
       "    .dataframe thead th {\n",
       "        text-align: right;\n",
       "    }\n",
       "</style>\n",
       "<table border=\"1\" class=\"dataframe\">\n",
       "  <thead>\n",
       "    <tr style=\"text-align: right;\">\n",
       "      <th></th>\n",
       "      <th>acousticness</th>\n",
       "      <th>danceability</th>\n",
       "      <th>energy</th>\n",
       "      <th>instrumentalness</th>\n",
       "      <th>liveness</th>\n",
       "      <th>speechiness</th>\n",
       "      <th>valence</th>\n",
       "    </tr>\n",
       "  </thead>\n",
       "  <tbody>\n",
       "    <tr>\n",
       "      <th>0</th>\n",
       "      <td>0.0469</td>\n",
       "      <td>0.311</td>\n",
       "      <td>0.325</td>\n",
       "      <td>0</td>\n",
       "      <td>0.139</td>\n",
       "      <td>0.0283</td>\n",
       "      <td>0.668</td>\n",
       "    </tr>\n",
       "  </tbody>\n",
       "</table>\n",
       "</div>"
      ],
      "text/plain": [
       "   acousticness  danceability  energy  instrumentalness  liveness  \\\n",
       "0        0.0469         0.311   0.325                 0     0.139   \n",
       "\n",
       "   speechiness  valence  \n",
       "0       0.0283    0.668  "
      ]
     },
     "execution_count": 16,
     "metadata": {},
     "output_type": "execute_result"
    }
   ],
   "source": [
    "import pandas as pd\n",
    "# df_features = spotifyAPI.parse_features(track_features)\n",
    "df = pd.DataFrame(track_features, index=[0])\n",
    "df_features = df.loc[: ,['acousticness', 'danceability', 'energy', 'instrumentalness', 'liveness', 'speechiness', 'valence']]\n",
    "df_features"
   ]
  },
  {
   "cell_type": "code",
   "execution_count": 17,
   "metadata": {},
   "outputs": [
    {
     "data": {
      "image/png": "[encoded data removed]",
      "text/plain": [
       "<Figure size 1800x1800 with 1 Axes>"
      ]
     },
     "metadata": {},
     "output_type": "display_data"
    }
   ],
   "source": [
    "import spotifyAPI\n",
    "spotifyAPI.feature_plot(df_features)"
   ]
  },
  {
   "cell_type": "markdown",
   "metadata": {},
   "source": [
    "### Get recommendations "
   ]
  },
  {
   "cell_type": "code",
   "execution_count": 19,
   "metadata": {},
   "outputs": [
    {
     "name": "stdout",
     "output_type": "stream",
     "text": [
      "\"Positively 4th Street\" by Bob Dylan\n",
      "\"Help! - Remastered 2009\" by The Beatles\n",
      "\"Uh-Oh, Love Comes to Town - 2005 Remaster\" by Talking Heads\n",
      "\"My Love - 2018 Remaster\" by Wings\n",
      "\"Do You Realize??\" by The Flaming Lips\n",
      "\"Piece of My Heart\" by Big Brother & The Holding Company\n",
      "\"Harvest Moon\" by Neil Young\n",
      "\"My Generation - Stereo Version\" by The Who\n",
      "\"The Air That I Breathe - 2008 Remaster\" by The Hollies\n",
      "\"While My Guitar Gently Weeps - Remastered 2009\" by The Beatles\n"
     ]
    }
   ],
   "source": [
    "token  = spotifyAPI.get_token(secrets['clientId'],secrets['clientSecret'])\n",
    "json_response = spotifyAPI.get_track_reco(lucy_id,token)\n",
    "uris =[]\n",
    "for i in json_response['tracks']:\n",
    "            uris.append(i)\n",
    "            print(f\"\\\"{i['name']}\\\" by {i['artists'][0]['name']}\")"
   ]
  },
  {
   "cell_type": "code",
   "execution_count": 20,
   "metadata": {},
   "outputs": [],
   "source": [
    "recolist = json_response['tracks']"
   ]
  },
  {
   "cell_type": "code",
   "execution_count": 21,
   "metadata": {},
   "outputs": [
    {
     "data": {
      "text/plain": [
       "'Positively 4th Street'"
      ]
     },
     "execution_count": 21,
     "metadata": {},
     "output_type": "execute_result"
    }
   ],
   "source": [
    "recolist[0]['name']"
   ]
  },
  {
   "cell_type": "code",
   "execution_count": 22,
   "metadata": {},
   "outputs": [
    {
     "data": {
      "text/plain": [
       "dict_keys(['album', 'artists', 'available_markets', 'disc_number', 'duration_ms', 'explicit', 'external_ids', 'external_urls', 'href', 'id', 'is_local', 'name', 'popularity', 'preview_url', 'track_number', 'type', 'uri'])"
      ]
     },
     "execution_count": 22,
     "metadata": {},
     "output_type": "execute_result"
    }
   ],
   "source": [
    "recolist[0].keys()"
   ]
  },
  {
   "cell_type": "code",
   "execution_count": 23,
   "metadata": {},
   "outputs": [
    {
     "data": {
      "text/plain": [
       "[{'height': 640,\n",
       "  'url': 'https://i.scdn.co/image/ab67616d0000b273e4020e52e777e32a4b8d8bb5',\n",
       "  'width': 640},\n",
       " {'height': 300,\n",
       "  'url': 'https://i.scdn.co/image/ab67616d00001e02e4020e52e777e32a4b8d8bb5',\n",
       "  'width': 300},\n",
       " {'height': 64,\n",
       "  'url': 'https://i.scdn.co/image/ab67616d00004851e4020e52e777e32a4b8d8bb5',\n",
       "  'width': 64}]"
      ]
     },
     "execution_count": 23,
     "metadata": {},
     "output_type": "execute_result"
    }
   ],
   "source": [
    "recolist[0]['album']['images']"
   ]
  },
  {
   "cell_type": "code",
   "execution_count": 24,
   "metadata": {},
   "outputs": [
    {
     "data": {
      "image/jpeg": "[encoded data removed]",
      "text/plain": [
       "<IPython.core.display.Image object>"
      ]
     },
     "execution_count": 24,
     "metadata": {},
     "output_type": "execute_result"
    }
   ],
   "source": [
    "import requests\n",
    "from IPython.display import Image\n",
    "i = 0\n",
    "track_url = recolist[i]['album']['images'][1]['url']\n",
    "track_name = recolist[i]['name']\n",
    "r = requests.get(track_url)\n",
    "open('../img/'+track_name+'.jpg', 'wb').write(r.content)\n",
    "Image(filename='../img/'+track_name+'.jpg') \n"
   ]
  },
  {
   "cell_type": "code",
   "execution_count": 25,
   "metadata": {},
   "outputs": [
    {
     "data": {
      "text/html": [
       "<div>\n",
       "<style scoped>\n",
       "    .dataframe tbody tr th:only-of-type {\n",
       "        vertical-align: middle;\n",
       "    }\n",
       "\n",
       "    .dataframe tbody tr th {\n",
       "        vertical-align: top;\n",
       "    }\n",
       "\n",
       "    .dataframe thead th {\n",
       "        text-align: right;\n",
       "    }\n",
       "</style>\n",
       "<table border=\"1\" class=\"dataframe\">\n",
       "  <thead>\n",
       "    <tr style=\"text-align: right;\">\n",
       "      <th></th>\n",
       "      <th>album</th>\n",
       "      <th>artists</th>\n",
       "      <th>available_markets</th>\n",
       "      <th>disc_number</th>\n",
       "      <th>duration_ms</th>\n",
       "      <th>explicit</th>\n",
       "      <th>external_ids</th>\n",
       "      <th>external_urls</th>\n",
       "      <th>href</th>\n",
       "      <th>id</th>\n",
       "      <th>is_local</th>\n",
       "      <th>name</th>\n",
       "      <th>popularity</th>\n",
       "      <th>preview_url</th>\n",
       "      <th>track_number</th>\n",
       "      <th>type</th>\n",
       "      <th>uri</th>\n",
       "    </tr>\n",
       "  </thead>\n",
       "  <tbody>\n",
       "    <tr>\n",
       "      <th>0</th>\n",
       "      <td>{'album_type': 'COMPILATION', 'artists': [{'ex...</td>\n",
       "      <td>[{'external_urls': {'spotify': 'https://open.s...</td>\n",
       "      <td>[AR, AU, AT, BE, BO, BR, BG, CA, CL, CO, CR, C...</td>\n",
       "      <td>1</td>\n",
       "      <td>233533</td>\n",
       "      <td>False</td>\n",
       "      <td>{'isrc': 'USSM16501140'}</td>\n",
       "      <td>{'spotify': 'https://open.spotify.com/track/6q...</td>\n",
       "      <td>https://api.spotify.com/v1/tracks/6q9rNSvE59IV...</td>\n",
       "      <td>6q9rNSvE59IVT3ZlEorvYb</td>\n",
       "      <td>False</td>\n",
       "      <td>Positively 4th Street</td>\n",
       "      <td>58</td>\n",
       "      <td>https://p.scdn.co/mp3-preview/11999e0e29d64281...</td>\n",
       "      <td>9</td>\n",
       "      <td>track</td>\n",
       "      <td>spotify:track:6q9rNSvE59IVT3ZlEorvYb</td>\n",
       "    </tr>\n",
       "    <tr>\n",
       "      <th>1</th>\n",
       "      <td>{'album_type': 'ALBUM', 'artists': [{'external...</td>\n",
       "      <td>[{'external_urls': {'spotify': 'https://open.s...</td>\n",
       "      <td>[AR, AU, AT, BE, BO, BR, BG, CA, CL, CO, CR, C...</td>\n",
       "      <td>1</td>\n",
       "      <td>139560</td>\n",
       "      <td>False</td>\n",
       "      <td>{'isrc': 'GBAYE0601465'}</td>\n",
       "      <td>{'spotify': 'https://open.spotify.com/track/7D...</td>\n",
       "      <td>https://api.spotify.com/v1/tracks/7DD7eSuYSC5x...</td>\n",
       "      <td>7DD7eSuYSC5xk2ArU62esN</td>\n",
       "      <td>False</td>\n",
       "      <td>Help! - Remastered 2009</td>\n",
       "      <td>73</td>\n",
       "      <td>None</td>\n",
       "      <td>1</td>\n",
       "      <td>track</td>\n",
       "      <td>spotify:track:7DD7eSuYSC5xk2ArU62esN</td>\n",
       "    </tr>\n",
       "    <tr>\n",
       "      <th>2</th>\n",
       "      <td>{'album_type': 'ALBUM', 'artists': [{'external...</td>\n",
       "      <td>[{'external_urls': {'spotify': 'https://open.s...</td>\n",
       "      <td>[AR, AU, AT, BE, BO, BR, BG, CA, CL, CO, CR, C...</td>\n",
       "      <td>1</td>\n",
       "      <td>169466</td>\n",
       "      <td>False</td>\n",
       "      <td>{'isrc': 'USWB10502856'}</td>\n",
       "      <td>{'spotify': 'https://open.spotify.com/track/1z...</td>\n",
       "      <td>https://api.spotify.com/v1/tracks/1ziWFozxLNQH...</td>\n",
       "      <td>1ziWFozxLNQH76CGGizB32</td>\n",
       "      <td>False</td>\n",
       "      <td>Uh-Oh, Love Comes to Town - 2005 Remaster</td>\n",
       "      <td>52</td>\n",
       "      <td>https://p.scdn.co/mp3-preview/82084df007395170...</td>\n",
       "      <td>1</td>\n",
       "      <td>track</td>\n",
       "      <td>spotify:track:1ziWFozxLNQH76CGGizB32</td>\n",
       "    </tr>\n",
       "    <tr>\n",
       "      <th>3</th>\n",
       "      <td>{'album_type': 'ALBUM', 'artists': [{'external...</td>\n",
       "      <td>[{'external_urls': {'spotify': 'https://open.s...</td>\n",
       "      <td>[AR, AU, AT, BE, BO, BR, BG, CA, CL, CO, CR, C...</td>\n",
       "      <td>1</td>\n",
       "      <td>247733</td>\n",
       "      <td>False</td>\n",
       "      <td>{'isrc': 'GBCCS1800076'}</td>\n",
       "      <td>{'spotify': 'https://open.spotify.com/track/0O...</td>\n",
       "      <td>https://api.spotify.com/v1/tracks/0Oj0TT23GBH2...</td>\n",
       "      <td>0Oj0TT23GBH2XuHAaSsloH</td>\n",
       "      <td>False</td>\n",
       "      <td>My Love - 2018 Remaster</td>\n",
       "      <td>62</td>\n",
       "      <td>None</td>\n",
       "      <td>2</td>\n",
       "      <td>track</td>\n",
       "      <td>spotify:track:0Oj0TT23GBH2XuHAaSsloH</td>\n",
       "    </tr>\n",
       "    <tr>\n",
       "      <th>4</th>\n",
       "      <td>{'album_type': 'ALBUM', 'artists': [{'external...</td>\n",
       "      <td>[{'external_urls': {'spotify': 'https://open.s...</td>\n",
       "      <td>[AR, AU, AT, BE, BO, BR, BG, CA, CL, CO, CR, C...</td>\n",
       "      <td>1</td>\n",
       "      <td>213173</td>\n",
       "      <td>False</td>\n",
       "      <td>{'isrc': 'USWB10200893'}</td>\n",
       "      <td>{'spotify': 'https://open.spotify.com/track/2D...</td>\n",
       "      <td>https://api.spotify.com/v1/tracks/2DFRFqWNahKt...</td>\n",
       "      <td>2DFRFqWNahKtFD112H2iEZ</td>\n",
       "      <td>False</td>\n",
       "      <td>Do You Realize??</td>\n",
       "      <td>65</td>\n",
       "      <td>https://p.scdn.co/mp3-preview/da9cd601ab876dc3...</td>\n",
       "      <td>9</td>\n",
       "      <td>track</td>\n",
       "      <td>spotify:track:2DFRFqWNahKtFD112H2iEZ</td>\n",
       "    </tr>\n",
       "    <tr>\n",
       "      <th>5</th>\n",
       "      <td>{'album_type': 'ALBUM', 'artists': [{'external...</td>\n",
       "      <td>[{'external_urls': {'spotify': 'https://open.s...</td>\n",
       "      <td>[AR, AU, AT, BE, BO, BR, BG, CA, CL, CO, CR, C...</td>\n",
       "      <td>1</td>\n",
       "      <td>253333</td>\n",
       "      <td>False</td>\n",
       "      <td>{'isrc': 'USSM16800982'}</td>\n",
       "      <td>{'spotify': 'https://open.spotify.com/track/1x...</td>\n",
       "      <td>https://api.spotify.com/v1/tracks/1xKQbqQtQWrt...</td>\n",
       "      <td>1xKQbqQtQWrtQS47fUJBtl</td>\n",
       "      <td>False</td>\n",
       "      <td>Piece of My Heart</td>\n",
       "      <td>70</td>\n",
       "      <td>https://p.scdn.co/mp3-preview/7f5967e0c7641caf...</td>\n",
       "      <td>4</td>\n",
       "      <td>track</td>\n",
       "      <td>spotify:track:1xKQbqQtQWrtQS47fUJBtl</td>\n",
       "    </tr>\n",
       "    <tr>\n",
       "      <th>6</th>\n",
       "      <td>{'album_type': 'ALBUM', 'artists': [{'external...</td>\n",
       "      <td>[{'external_urls': {'spotify': 'https://open.s...</td>\n",
       "      <td>[AR, AU, AT, BE, BO, BR, BG, CA, CL, CO, CR, C...</td>\n",
       "      <td>1</td>\n",
       "      <td>303213</td>\n",
       "      <td>False</td>\n",
       "      <td>{'isrc': 'USRE19900694'}</td>\n",
       "      <td>{'spotify': 'https://open.spotify.com/track/5l...</td>\n",
       "      <td>https://api.spotify.com/v1/tracks/5l9c6bJmzvft...</td>\n",
       "      <td>5l9c6bJmzvftumhz4TMPgk</td>\n",
       "      <td>False</td>\n",
       "      <td>Harvest Moon</td>\n",
       "      <td>77</td>\n",
       "      <td>https://p.scdn.co/mp3-preview/eb44c7946421ba6b...</td>\n",
       "      <td>4</td>\n",
       "      <td>track</td>\n",
       "      <td>spotify:track:5l9c6bJmzvftumhz4TMPgk</td>\n",
       "    </tr>\n",
       "    <tr>\n",
       "      <th>7</th>\n",
       "      <td>{'album_type': 'ALBUM', 'artists': [{'external...</td>\n",
       "      <td>[{'external_urls': {'spotify': 'https://open.s...</td>\n",
       "      <td>[AR, AU, AT, BE, BO, BR, BG, CA, CL, CO, CR, C...</td>\n",
       "      <td>1</td>\n",
       "      <td>198706</td>\n",
       "      <td>False</td>\n",
       "      <td>{'isrc': 'GBUM71406026'}</td>\n",
       "      <td>{'spotify': 'https://open.spotify.com/track/4u...</td>\n",
       "      <td>https://api.spotify.com/v1/tracks/4u9f8hqstB7i...</td>\n",
       "      <td>4u9f8hqstB7iITDJNzKhQx</td>\n",
       "      <td>False</td>\n",
       "      <td>My Generation - Stereo Version</td>\n",
       "      <td>65</td>\n",
       "      <td>None</td>\n",
       "      <td>6</td>\n",
       "      <td>track</td>\n",
       "      <td>spotify:track:4u9f8hqstB7iITDJNzKhQx</td>\n",
       "    </tr>\n",
       "    <tr>\n",
       "      <th>8</th>\n",
       "      <td>{'album_type': 'ALBUM', 'artists': [{'external...</td>\n",
       "      <td>[{'external_urls': {'spotify': 'https://open.s...</td>\n",
       "      <td>[AR, AU, AT, BE, BO, BR, BG, CA, CL, CO, CR, C...</td>\n",
       "      <td>1</td>\n",
       "      <td>257105</td>\n",
       "      <td>False</td>\n",
       "      <td>{'isrc': 'GBGYU0800011'}</td>\n",
       "      <td>{'spotify': 'https://open.spotify.com/track/3P...</td>\n",
       "      <td>https://api.spotify.com/v1/tracks/3P3fymPrC9Kg...</td>\n",
       "      <td>3P3fymPrC9KgV2Kf5oMnx0</td>\n",
       "      <td>False</td>\n",
       "      <td>The Air That I Breathe - 2008 Remaster</td>\n",
       "      <td>74</td>\n",
       "      <td>https://p.scdn.co/mp3-preview/0305356ccc4ea811...</td>\n",
       "      <td>11</td>\n",
       "      <td>track</td>\n",
       "      <td>spotify:track:3P3fymPrC9KgV2Kf5oMnx0</td>\n",
       "    </tr>\n",
       "    <tr>\n",
       "      <th>9</th>\n",
       "      <td>{'album_type': 'ALBUM', 'artists': [{'external...</td>\n",
       "      <td>[{'external_urls': {'spotify': 'https://open.s...</td>\n",
       "      <td>[AR, AU, AT, BE, BO, BR, BG, CA, CL, CO, CR, C...</td>\n",
       "      <td>1</td>\n",
       "      <td>285000</td>\n",
       "      <td>False</td>\n",
       "      <td>{'isrc': 'GBAYE0601650'}</td>\n",
       "      <td>{'spotify': 'https://open.spotify.com/track/38...</td>\n",
       "      <td>https://api.spotify.com/v1/tracks/389QX9Q1eUOE...</td>\n",
       "      <td>389QX9Q1eUOEZ19vtzzI9O</td>\n",
       "      <td>False</td>\n",
       "      <td>While My Guitar Gently Weeps - Remastered 2009</td>\n",
       "      <td>74</td>\n",
       "      <td>None</td>\n",
       "      <td>7</td>\n",
       "      <td>track</td>\n",
       "      <td>spotify:track:389QX9Q1eUOEZ19vtzzI9O</td>\n",
       "    </tr>\n",
       "  </tbody>\n",
       "</table>\n",
       "</div>"
      ],
      "text/plain": [
       "                                               album  \\\n",
       "0  {'album_type': 'COMPILATION', 'artists': [{'ex...   \n",
       "1  {'album_type': 'ALBUM', 'artists': [{'external...   \n",
       "2  {'album_type': 'ALBUM', 'artists': [{'external...   \n",
       "3  {'album_type': 'ALBUM', 'artists': [{'external...   \n",
       "4  {'album_type': 'ALBUM', 'artists': [{'external...   \n",
       "5  {'album_type': 'ALBUM', 'artists': [{'external...   \n",
       "6  {'album_type': 'ALBUM', 'artists': [{'external...   \n",
       "7  {'album_type': 'ALBUM', 'artists': [{'external...   \n",
       "8  {'album_type': 'ALBUM', 'artists': [{'external...   \n",
       "9  {'album_type': 'ALBUM', 'artists': [{'external...   \n",
       "\n",
       "                                             artists  \\\n",
       "0  [{'external_urls': {'spotify': 'https://open.s...   \n",
       "1  [{'external_urls': {'spotify': 'https://open.s...   \n",
       "2  [{'external_urls': {'spotify': 'https://open.s...   \n",
       "3  [{'external_urls': {'spotify': 'https://open.s...   \n",
       "4  [{'external_urls': {'spotify': 'https://open.s...   \n",
       "5  [{'external_urls': {'spotify': 'https://open.s...   \n",
       "6  [{'external_urls': {'spotify': 'https://open.s...   \n",
       "7  [{'external_urls': {'spotify': 'https://open.s...   \n",
       "8  [{'external_urls': {'spotify': 'https://open.s...   \n",
       "9  [{'external_urls': {'spotify': 'https://open.s...   \n",
       "\n",
       "                                   available_markets  disc_number  \\\n",
       "0  [AR, AU, AT, BE, BO, BR, BG, CA, CL, CO, CR, C...            1   \n",
       "1  [AR, AU, AT, BE, BO, BR, BG, CA, CL, CO, CR, C...            1   \n",
       "2  [AR, AU, AT, BE, BO, BR, BG, CA, CL, CO, CR, C...            1   \n",
       "3  [AR, AU, AT, BE, BO, BR, BG, CA, CL, CO, CR, C...            1   \n",
       "4  [AR, AU, AT, BE, BO, BR, BG, CA, CL, CO, CR, C...            1   \n",
       "5  [AR, AU, AT, BE, BO, BR, BG, CA, CL, CO, CR, C...            1   \n",
       "6  [AR, AU, AT, BE, BO, BR, BG, CA, CL, CO, CR, C...            1   \n",
       "7  [AR, AU, AT, BE, BO, BR, BG, CA, CL, CO, CR, C...            1   \n",
       "8  [AR, AU, AT, BE, BO, BR, BG, CA, CL, CO, CR, C...            1   \n",
       "9  [AR, AU, AT, BE, BO, BR, BG, CA, CL, CO, CR, C...            1   \n",
       "\n",
       "   duration_ms  explicit              external_ids  \\\n",
       "0       233533     False  {'isrc': 'USSM16501140'}   \n",
       "1       139560     False  {'isrc': 'GBAYE0601465'}   \n",
       "2       169466     False  {'isrc': 'USWB10502856'}   \n",
       "3       247733     False  {'isrc': 'GBCCS1800076'}   \n",
       "4       213173     False  {'isrc': 'USWB10200893'}   \n",
       "5       253333     False  {'isrc': 'USSM16800982'}   \n",
       "6       303213     False  {'isrc': 'USRE19900694'}   \n",
       "7       198706     False  {'isrc': 'GBUM71406026'}   \n",
       "8       257105     False  {'isrc': 'GBGYU0800011'}   \n",
       "9       285000     False  {'isrc': 'GBAYE0601650'}   \n",
       "\n",
       "                                       external_urls  \\\n",
       "0  {'spotify': 'https://open.spotify.com/track/6q...   \n",
       "1  {'spotify': 'https://open.spotify.com/track/7D...   \n",
       "2  {'spotify': 'https://open.spotify.com/track/1z...   \n",
       "3  {'spotify': 'https://open.spotify.com/track/0O...   \n",
       "4  {'spotify': 'https://open.spotify.com/track/2D...   \n",
       "5  {'spotify': 'https://open.spotify.com/track/1x...   \n",
       "6  {'spotify': 'https://open.spotify.com/track/5l...   \n",
       "7  {'spotify': 'https://open.spotify.com/track/4u...   \n",
       "8  {'spotify': 'https://open.spotify.com/track/3P...   \n",
       "9  {'spotify': 'https://open.spotify.com/track/38...   \n",
       "\n",
       "                                                href                      id  \\\n",
       "0  https://api.spotify.com/v1/tracks/6q9rNSvE59IV...  6q9rNSvE59IVT3ZlEorvYb   \n",
       "1  https://api.spotify.com/v1/tracks/7DD7eSuYSC5x...  7DD7eSuYSC5xk2ArU62esN   \n",
       "2  https://api.spotify.com/v1/tracks/1ziWFozxLNQH...  1ziWFozxLNQH76CGGizB32   \n",
       "3  https://api.spotify.com/v1/tracks/0Oj0TT23GBH2...  0Oj0TT23GBH2XuHAaSsloH   \n",
       "4  https://api.spotify.com/v1/tracks/2DFRFqWNahKt...  2DFRFqWNahKtFD112H2iEZ   \n",
       "5  https://api.spotify.com/v1/tracks/1xKQbqQtQWrt...  1xKQbqQtQWrtQS47fUJBtl   \n",
       "6  https://api.spotify.com/v1/tracks/5l9c6bJmzvft...  5l9c6bJmzvftumhz4TMPgk   \n",
       "7  https://api.spotify.com/v1/tracks/4u9f8hqstB7i...  4u9f8hqstB7iITDJNzKhQx   \n",
       "8  https://api.spotify.com/v1/tracks/3P3fymPrC9Kg...  3P3fymPrC9KgV2Kf5oMnx0   \n",
       "9  https://api.spotify.com/v1/tracks/389QX9Q1eUOE...  389QX9Q1eUOEZ19vtzzI9O   \n",
       "\n",
       "   is_local                                            name  popularity  \\\n",
       "0     False                           Positively 4th Street          58   \n",
       "1     False                         Help! - Remastered 2009          73   \n",
       "2     False       Uh-Oh, Love Comes to Town - 2005 Remaster          52   \n",
       "3     False                         My Love - 2018 Remaster          62   \n",
       "4     False                                Do You Realize??          65   \n",
       "5     False                               Piece of My Heart          70   \n",
       "6     False                                    Harvest Moon          77   \n",
       "7     False                  My Generation - Stereo Version          65   \n",
       "8     False          The Air That I Breathe - 2008 Remaster          74   \n",
       "9     False  While My Guitar Gently Weeps - Remastered 2009          74   \n",
       "\n",
       "                                         preview_url  track_number   type  \\\n",
       "0  https://p.scdn.co/mp3-preview/11999e0e29d64281...             9  track   \n",
       "1                                               None             1  track   \n",
       "2  https://p.scdn.co/mp3-preview/82084df007395170...             1  track   \n",
       "3                                               None             2  track   \n",
       "4  https://p.scdn.co/mp3-preview/da9cd601ab876dc3...             9  track   \n",
       "5  https://p.scdn.co/mp3-preview/7f5967e0c7641caf...             4  track   \n",
       "6  https://p.scdn.co/mp3-preview/eb44c7946421ba6b...             4  track   \n",
       "7                                               None             6  track   \n",
       "8  https://p.scdn.co/mp3-preview/0305356ccc4ea811...            11  track   \n",
       "9                                               None             7  track   \n",
       "\n",
       "                                    uri  \n",
       "0  spotify:track:6q9rNSvE59IVT3ZlEorvYb  \n",
       "1  spotify:track:7DD7eSuYSC5xk2ArU62esN  \n",
       "2  spotify:track:1ziWFozxLNQH76CGGizB32  \n",
       "3  spotify:track:0Oj0TT23GBH2XuHAaSsloH  \n",
       "4  spotify:track:2DFRFqWNahKtFD112H2iEZ  \n",
       "5  spotify:track:1xKQbqQtQWrtQS47fUJBtl  \n",
       "6  spotify:track:5l9c6bJmzvftumhz4TMPgk  \n",
       "7  spotify:track:4u9f8hqstB7iITDJNzKhQx  \n",
       "8  spotify:track:3P3fymPrC9KgV2Kf5oMnx0  \n",
       "9  spotify:track:389QX9Q1eUOEZ19vtzzI9O  "
      ]
     },
     "execution_count": 25,
     "metadata": {},
     "output_type": "execute_result"
    }
   ],
   "source": [
    "reco = pd.DataFrame(recolist)\n",
    "reco"
   ]
  },
  {
   "cell_type": "markdown",
   "metadata": {},
   "source": [
    "### Artist albums"
   ]
  },
  {
   "cell_type": "code",
   "execution_count": 41,
   "metadata": {},
   "outputs": [],
   "source": [
    "import pandas as pd\n",
    "artists = pd.read_csv('../data/spotify-artist-uris.csv', header=None, index_col=0).squeeze(\"columns\").to_dict()"
   ]
  },
  {
   "cell_type": "code",
   "execution_count": 42,
   "metadata": {},
   "outputs": [
    {
     "name": "stdout",
     "output_type": "stream",
     "text": [
      "Scream\n",
      "XSCAPE\n",
      "XSCAPE\n",
      "XSCAPE - Track by Track Commentary\n",
      "Michael\n",
      "Gold\n",
      "Invincible\n",
      "BLOOD ON THE DANCE FLOOR/ HIStory In The Mix\n",
      "BLOOD ON THE DANCE FLOOR/ HIStory In The Mix\n",
      "HIStory - PAST, PRESENT AND FUTURE - BOOK I\n",
      "HIStory - PAST, PRESENT AND FUTURE - BOOK I\n",
      "Dangerous\n",
      "Bad (Remastered)\n",
      "Bad 25th Anniversary\n",
      "Thriller\n",
      "Thriller\n",
      "Thriller 25 Super Deluxe Edition\n",
      "Off the Wall\n",
      "Forever Michael\n",
      "Forever, Michael\n",
      "Music And Me\n",
      "Music & Me\n",
      "Music and Me\n",
      "Ben\n",
      "Ben\n",
      "Got To Be There\n",
      "Got To Be There\n"
     ]
    }
   ],
   "source": [
    "mj_uri = artists['Michael Jackson']\n",
    "\n",
    "results = sp.artist_albums(mj_uri, album_type='album')\n",
    "albums = results['items']\n",
    "while results['next']:\n",
    "    results = sp.next(results)\n",
    "    albums.extend(results['items'])\n",
    "\n",
    "for album in albums:\n",
    "    print(album['name'])"
   ]
  },
  {
   "cell_type": "code",
   "execution_count": 43,
   "metadata": {},
   "outputs": [
    {
     "data": {
      "text/plain": [
       "True"
      ]
     },
     "execution_count": 43,
     "metadata": {},
     "output_type": "execute_result"
    }
   ],
   "source": [
    "url = \"https://open.spotify.com/artist/\"+mj_uri.replace('spotify:artist:','')\n",
    "import webbrowser\n",
    "webbrowser.open(url)"
   ]
  },
  {
   "cell_type": "markdown",
   "metadata": {},
   "source": [
    "### Artist top tracks"
   ]
  },
  {
   "cell_type": "code",
   "execution_count": 55,
   "metadata": {},
   "outputs": [
    {
     "data": {
      "application/vnd.jupyter.widget-view+json": {
       "model_id": "00e40576ceb24c29889e60f4aa2acd07",
       "version_major": 2,
       "version_minor": 0
      },
      "text/plain": [
       "Text(value='Led Zeppelin')"
      ]
     },
     "execution_count": 55,
     "metadata": {},
     "output_type": "execute_result"
    }
   ],
   "source": [
    "import ipywidgets as widgets\n",
    "artist = widgets.Text(value='Led Zeppelin',disabled=False)\n",
    "artist"
   ]
  },
  {
   "cell_type": "code",
   "execution_count": 52,
   "metadata": {},
   "outputs": [
    {
     "name": "stdout",
     "output_type": "stream",
     "text": [
      "track    : Stairway to Heaven - Remaster\n",
      "audio    : https://p.scdn.co/mp3-preview/fc80a280376d5142c888475bd8fdcd00b4fc8d7d?cid=5430345c1c6e472fae6e3fb2c1399bce\n",
      "cover art: https://i.scdn.co/image/ab67616d0000b273c8a11e48c91a982d086afc69\n",
      "\n",
      "track    : Immigrant Song - Remaster\n",
      "audio    : https://p.scdn.co/mp3-preview/e5910b86cc788766388cca1c494094e39186aa1e?cid=5430345c1c6e472fae6e3fb2c1399bce\n",
      "cover art: https://i.scdn.co/image/ab67616d0000b27390a50cfe99a4c19ff3cbfbdb\n",
      "\n",
      "track    : Whole Lotta Love - 1990 Remaster\n",
      "audio    : https://p.scdn.co/mp3-preview/f3765a6c5b194302c6e7fffc31ba21e2bd616cf6?cid=5430345c1c6e472fae6e3fb2c1399bce\n",
      "cover art: https://i.scdn.co/image/ab67616d0000b273fc4f17340773c6c3579fea0d\n",
      "\n"
     ]
    }
   ],
   "source": [
    "# how to get 30 second samples and cover art for the top 10 tracks for Led Zeppelin:\n",
    "lz_uri = artists[artist.value]\n",
    "\n",
    "results = sp.artist_top_tracks(lz_uri)\n",
    "\n",
    "for track in results['tracks'][:3]:\n",
    "    print('track    : ' + track['name'])\n",
    "    print('audio    : ' + track['preview_url'])\n",
    "    print('cover art: ' + track['album']['images'][0]['url'])\n",
    "    print()"
   ]
  },
  {
   "cell_type": "markdown",
   "metadata": {},
   "source": [
    "### [Advanced Search](https://spotipy.readthedocs.io/en/2.16.1/#spotipy.client.Spotify.search)\n",
    "\n",
    "_search(q, limit=10, offset=0, type='track', market=None)_\n",
    "\n",
    "**Parameters**:\n",
    "* q - the search query (see how to write a query in the\n",
    "official documentation https://developer.spotify.com/documentation/web-api/reference/search/search/) # noqa\n",
    "* limit - the number of items to return (min = 1, default = 10, max = 50)\n",
    "* offset - the index of the first item to return\n",
    "* type - the type of item to return. One of ‘artist’, ‘album’,\n",
    "‘track’, ‘playlist’, ‘show’, or ‘episode’\n",
    "* market - An ISO 3166-1 alpha-2 country code or the string\n",
    "from_token.\n",
    "\n",
    "https://medium.com/@maxtingle/getting-started-with-spotifys-api-spotipy-197c3dc6353b\n",
    "\n",
    "The following code collects 1,000 Track IDs and their associated track name, artist name, and popularity score.\n",
    "(it does not require a Spotify ID)"
   ]
  },
  {
   "cell_type": "code",
   "execution_count": null,
   "metadata": {},
   "outputs": [],
   "source": [
    "artist_name = []\n",
    "track_name = []\n",
    "popularity = []\n",
    "track_id = []\n",
    "for i in range(0,1000,50):\n",
    "    track_results = sp.search(q='year:2020', type='track', limit=50,offset=i)\n",
    "    for i, t in enumerate(track_results['tracks']['items']):\n",
    "        artist_name.append(t['artists'][0]['name'])\n",
    "        track_name.append(t['name'])\n",
    "        track_id.append(t['id'])\n",
    "        popularity.append(t['popularity'])"
   ]
  },
  {
   "cell_type": "markdown",
   "metadata": {},
   "source": [
    "## Access Scopes"
   ]
  },
  {
   "cell_type": "markdown",
   "metadata": {},
   "source": [
    "* Images\n",
    "  * [ugc-image-upload](https://developer.spotify.com/documentation/general/guides/scopes/#ugc-image-upload)\n",
    "* Spotify Connect\n",
    "  * [user-read-playback-state](https://developer.spotify.com/documentation/general/guides/scopes/#user-read-playback-state)\n",
    "  * [user-modify-playback-state](https://developer.spotify.com/documentation/general/guides/scopes/#user-modify-playback-state)\n",
    "  * [user-read-currently-playing](https://developer.spotify.com/documentation/general/guides/scopes/#user-read-currently-playing)\n",
    "* Playback\n",
    "  * [streaming](https://developer.spotify.com/documentation/general/guides/scopes/#streaming)\n",
    "  * [app-remote-control](https://developer.spotify.com/documentation/general/guides/scopes/#app-remote-control)\n",
    "* Users\n",
    "  * [user-read-email](https://developer.spotify.com/documentation/general/guides/scopes/#user-read-email)\n",
    "  * [user-read-private](https://developer.spotify.com/documentation/general/guides/scopes/#user-read-private)\n",
    "* Playlists\n",
    "  * [playlist-read-collaborative](https://developer.spotify.com/documentation/general/guides/scopes/#playlist-read-collaborative)\n",
    "  * [playlist-modify-public](https://developer.spotify.com/documentation/general/guides/scopes/#playlist-modify-public)\n",
    "  * [playlist-read-private](https://developer.spotify.com/documentation/general/guides/scopes/#playlist-read-private)\n",
    "  * [playlist-modify-private](https://developer.spotify.com/documentation/general/guides/scopes/#playlist-modify-private)\n",
    "* Library\n",
    "  * [user-library-modify](https://developer.spotify.com/documentation/general/guides/scopes/#user-library-modify)\n",
    "  * [user-library-read](https://developer.spotify.com/documentation/general/guides/scopes/#user-library-read)\n",
    "* Listening History\n",
    "  * [user-top-read](https://developer.spotify.com/documentation/general/guides/scopes/#user-top-read)\n",
    "  * [user-read-playback-position](https://developer.spotify.com/documentation/general/guides/scopes/#user-read-playback-position)\n",
    "  * [user-read-recently-played](https://developer.spotify.com/documentation/general/guides/scopes/#user-read-recently-played)\n",
    "* Follow\n",
    "  * [user-follow-read](https://developer.spotify.com/documentation/general/guides/scopes/#user-follow-read)\n",
    "  * [user-follow-modify](https://developer.spotify.com/documentation/general/guides/scopes/#user-follow-modify)"
   ]
  },
  {
   "cell_type": "markdown",
   "metadata": {},
   "source": [
    "### Recently played\n",
    "\n",
    "https://developer.spotify.com/console/get-recently-played/"
   ]
  },
  {
   "cell_type": "code",
   "execution_count": 38,
   "metadata": {},
   "outputs": [],
   "source": [
    "username='1146603936'"
   ]
  },
  {
   "cell_type": "code",
   "execution_count": null,
   "metadata": {},
   "outputs": [
    {
     "name": "stdout",
     "output_type": "stream",
     "text": [
      "0 owlh  –  One Last Time\n",
      "1 Yedai  –  WHITE IVERSON\n",
      "2 Kamakuras  –  Lovefool\n",
      "3 <3BEAT  –  Late Night Talking\n",
      "4 lokash  –  Your Power\n",
      "5 owlh  –  Congratulations\n",
      "6 owlh  –  Congratulations\n",
      "7 Yedai  –  LIGHTS OUT\n",
      "8 Miro Mas  –  End of Beginning\n",
      "9 lokash  –  Rush\n",
      "10 Miro Mas  –  Faded\n",
      "11 lokash  –  Eyes Blue Like The Atlantic\n",
      "12 <3BEAT  –  Only Love Can Hurt Like This\n",
      "13 owlh  –  Talking Body\n",
      "14 lokash  –  Trouble\n",
      "15 Kamakuras  –  Truly Madly Deeply\n",
      "16 owlh  –  you broke me first\n",
      "17 <3BEAT  –  Young Folks\n",
      "18 LAV8  –  Californication\n",
      "19 owlh  –  Everytime We Touch\n",
      "20 rosarummet  –  cruel summer\n",
      "21 Miro Mas  –  Bad Habits\n",
      "22 Miro Mas  –  greedy\n",
      "23 timbert  –  Flute\n",
      "24 lokash  –  Super Rich Kids\n",
      "25 Miro Mas  –  California Dreamin'\n",
      "26 timbert  –  timbert dies\n",
      "27 LAV8  –  I Want It That Way\n",
      "28 lokash  –  Bitter Sweet Symphony\n",
      "29 <3BEAT  –  Castle on the Hill\n",
      "30 owlh  –  Magic\n",
      "31 owlh  –  Another Day in Paradise\n",
      "32 owlh  –  Flowers\n",
      "33 <3BEAT  –  Love Story\n",
      "34 Yedai  –  ANTI-HERO\n",
      "35 <3BEAT  –  Music For a Sushi Restaurant\n",
      "36 LAV8  –  Pink + White\n",
      "37 <3BEAT  –  Passionfruit\n",
      "38 LAV8  –  Jealous\n",
      "39 Yedai  –  Dream a Little Dream of Me\n",
      "40 lokash  –  Kill Bill\n",
      "41 Miro Mas  –  My Love Mine All Mine\n",
      "42 rosarummet  –  Lovely Day\n",
      "43 Yedai  –  REMEMBER ME\n",
      "44 <3BEAT  –  I Had Some Help\n",
      "45 Kamakuras  –  Mad World\n",
      "46 Kamakuras  –  Mad World\n",
      "47 rosarummet  –  die for you\n",
      "48 rosarummet  –  ambler\n",
      "49 LAV8  –  Sunflower\n"
     ]
    }
   ],
   "source": [
    "import spotipy\n",
    "from spotipy.oauth2 import SpotifyOAuth\n",
    "\n",
    "scope = \"user-read-recently-played\"\n",
    "\n",
    "auth_user = SpotifyOAuth(scope=scope, username=username)\n",
    "sp = spotipy.Spotify(auth_manager=auth_user)\n",
    "\n",
    "results = sp.current_user_recently_played(limit=50)\n",
    "results['items']\n",
    "for idx, item in enumerate(results['items']):\n",
    "    track = item['track']\n",
    "    print(idx, track['artists'][0]['name'], \" – \", track['name'])"
   ]
  },
  {
   "cell_type": "code",
   "execution_count": 29,
   "metadata": {},
   "outputs": [],
   "source": [
    "import json\n",
    "with open(\"../data/recently_played_20250613.json\",\"w\") as f:\n",
    "    json.dump(results,f,indent=4)"
   ]
  },
  {
   "cell_type": "code",
   "execution_count": 30,
   "metadata": {},
   "outputs": [
    {
     "data": {
      "text/plain": [
       "[[0, 'owlh', 'One Last Time'],\n",
       " [1, 'Yedai', 'WHITE IVERSON'],\n",
       " [2, 'Kamakuras', 'Lovefool'],\n",
       " [3, '<3BEAT', 'Late Night Talking'],\n",
       " [4, 'lokash', 'Your Power']]"
      ]
     },
     "execution_count": 30,
     "metadata": {},
     "output_type": "execute_result"
    }
   ],
   "source": [
    "tracks = []\n",
    "for idx, item in enumerate(results['items']):\n",
    "    track = item['track']\n",
    "    tracks.append([idx, track['artists'][0]['name'], track['name']])\n",
    "tracks[0:5]"
   ]
  },
  {
   "cell_type": "code",
   "execution_count": 31,
   "metadata": {},
   "outputs": [],
   "source": [
    "trackDict = {\"id\":[], \"artist\":[],\"name\":[]}\n",
    "for idx, item in enumerate(results['items']):\n",
    "    track = item['track']\n",
    "    trackDict[\"id\"].append(idx)\n",
    "    trackDict[\"artist\"].append(track['artists'][0]['name'])\n",
    "    trackDict[\"name\"].append(track['name'])\n"
   ]
  },
  {
   "cell_type": "code",
   "execution_count": 37,
   "metadata": {},
   "outputs": [
    {
     "data": {
      "text/html": [
       "<div>\n",
       "<style scoped>\n",
       "    .dataframe tbody tr th:only-of-type {\n",
       "        vertical-align: middle;\n",
       "    }\n",
       "\n",
       "    .dataframe tbody tr th {\n",
       "        vertical-align: top;\n",
       "    }\n",
       "\n",
       "    .dataframe thead th {\n",
       "        text-align: right;\n",
       "    }\n",
       "</style>\n",
       "<table border=\"1\" class=\"dataframe\">\n",
       "  <thead>\n",
       "    <tr style=\"text-align: right;\">\n",
       "      <th></th>\n",
       "      <th>id</th>\n",
       "      <th>artist</th>\n",
       "      <th>name</th>\n",
       "    </tr>\n",
       "  </thead>\n",
       "  <tbody>\n",
       "    <tr>\n",
       "      <th>0</th>\n",
       "      <td>0</td>\n",
       "      <td>owlh</td>\n",
       "      <td>One Last Time</td>\n",
       "    </tr>\n",
       "    <tr>\n",
       "      <th>1</th>\n",
       "      <td>1</td>\n",
       "      <td>Yedai</td>\n",
       "      <td>WHITE IVERSON</td>\n",
       "    </tr>\n",
       "    <tr>\n",
       "      <th>2</th>\n",
       "      <td>2</td>\n",
       "      <td>Kamakuras</td>\n",
       "      <td>Lovefool</td>\n",
       "    </tr>\n",
       "    <tr>\n",
       "      <th>3</th>\n",
       "      <td>3</td>\n",
       "      <td>&lt;3BEAT</td>\n",
       "      <td>Late Night Talking</td>\n",
       "    </tr>\n",
       "    <tr>\n",
       "      <th>4</th>\n",
       "      <td>4</td>\n",
       "      <td>lokash</td>\n",
       "      <td>Your Power</td>\n",
       "    </tr>\n",
       "    <tr>\n",
       "      <th>5</th>\n",
       "      <td>5</td>\n",
       "      <td>owlh</td>\n",
       "      <td>Congratulations</td>\n",
       "    </tr>\n",
       "    <tr>\n",
       "      <th>6</th>\n",
       "      <td>6</td>\n",
       "      <td>owlh</td>\n",
       "      <td>Congratulations</td>\n",
       "    </tr>\n",
       "    <tr>\n",
       "      <th>7</th>\n",
       "      <td>7</td>\n",
       "      <td>Yedai</td>\n",
       "      <td>LIGHTS OUT</td>\n",
       "    </tr>\n",
       "    <tr>\n",
       "      <th>8</th>\n",
       "      <td>8</td>\n",
       "      <td>Miro Mas</td>\n",
       "      <td>End of Beginning</td>\n",
       "    </tr>\n",
       "    <tr>\n",
       "      <th>9</th>\n",
       "      <td>9</td>\n",
       "      <td>lokash</td>\n",
       "      <td>Rush</td>\n",
       "    </tr>\n",
       "    <tr>\n",
       "      <th>10</th>\n",
       "      <td>10</td>\n",
       "      <td>Miro Mas</td>\n",
       "      <td>Faded</td>\n",
       "    </tr>\n",
       "    <tr>\n",
       "      <th>11</th>\n",
       "      <td>11</td>\n",
       "      <td>lokash</td>\n",
       "      <td>Eyes Blue Like The Atlantic</td>\n",
       "    </tr>\n",
       "    <tr>\n",
       "      <th>12</th>\n",
       "      <td>12</td>\n",
       "      <td>&lt;3BEAT</td>\n",
       "      <td>Only Love Can Hurt Like This</td>\n",
       "    </tr>\n",
       "    <tr>\n",
       "      <th>13</th>\n",
       "      <td>13</td>\n",
       "      <td>owlh</td>\n",
       "      <td>Talking Body</td>\n",
       "    </tr>\n",
       "    <tr>\n",
       "      <th>14</th>\n",
       "      <td>14</td>\n",
       "      <td>lokash</td>\n",
       "      <td>Trouble</td>\n",
       "    </tr>\n",
       "    <tr>\n",
       "      <th>15</th>\n",
       "      <td>15</td>\n",
       "      <td>Kamakuras</td>\n",
       "      <td>Truly Madly Deeply</td>\n",
       "    </tr>\n",
       "    <tr>\n",
       "      <th>16</th>\n",
       "      <td>16</td>\n",
       "      <td>owlh</td>\n",
       "      <td>you broke me first</td>\n",
       "    </tr>\n",
       "    <tr>\n",
       "      <th>17</th>\n",
       "      <td>17</td>\n",
       "      <td>&lt;3BEAT</td>\n",
       "      <td>Young Folks</td>\n",
       "    </tr>\n",
       "    <tr>\n",
       "      <th>18</th>\n",
       "      <td>18</td>\n",
       "      <td>LAV8</td>\n",
       "      <td>Californication</td>\n",
       "    </tr>\n",
       "    <tr>\n",
       "      <th>19</th>\n",
       "      <td>19</td>\n",
       "      <td>owlh</td>\n",
       "      <td>Everytime We Touch</td>\n",
       "    </tr>\n",
       "    <tr>\n",
       "      <th>20</th>\n",
       "      <td>20</td>\n",
       "      <td>rosarummet</td>\n",
       "      <td>cruel summer</td>\n",
       "    </tr>\n",
       "    <tr>\n",
       "      <th>21</th>\n",
       "      <td>21</td>\n",
       "      <td>Miro Mas</td>\n",
       "      <td>Bad Habits</td>\n",
       "    </tr>\n",
       "    <tr>\n",
       "      <th>22</th>\n",
       "      <td>22</td>\n",
       "      <td>Miro Mas</td>\n",
       "      <td>greedy</td>\n",
       "    </tr>\n",
       "    <tr>\n",
       "      <th>23</th>\n",
       "      <td>23</td>\n",
       "      <td>timbert</td>\n",
       "      <td>Flute</td>\n",
       "    </tr>\n",
       "    <tr>\n",
       "      <th>24</th>\n",
       "      <td>24</td>\n",
       "      <td>lokash</td>\n",
       "      <td>Super Rich Kids</td>\n",
       "    </tr>\n",
       "    <tr>\n",
       "      <th>25</th>\n",
       "      <td>25</td>\n",
       "      <td>Miro Mas</td>\n",
       "      <td>California Dreamin'</td>\n",
       "    </tr>\n",
       "    <tr>\n",
       "      <th>26</th>\n",
       "      <td>26</td>\n",
       "      <td>timbert</td>\n",
       "      <td>timbert dies</td>\n",
       "    </tr>\n",
       "    <tr>\n",
       "      <th>27</th>\n",
       "      <td>27</td>\n",
       "      <td>LAV8</td>\n",
       "      <td>I Want It That Way</td>\n",
       "    </tr>\n",
       "    <tr>\n",
       "      <th>28</th>\n",
       "      <td>28</td>\n",
       "      <td>lokash</td>\n",
       "      <td>Bitter Sweet Symphony</td>\n",
       "    </tr>\n",
       "    <tr>\n",
       "      <th>29</th>\n",
       "      <td>29</td>\n",
       "      <td>&lt;3BEAT</td>\n",
       "      <td>Castle on the Hill</td>\n",
       "    </tr>\n",
       "    <tr>\n",
       "      <th>30</th>\n",
       "      <td>30</td>\n",
       "      <td>owlh</td>\n",
       "      <td>Magic</td>\n",
       "    </tr>\n",
       "    <tr>\n",
       "      <th>31</th>\n",
       "      <td>31</td>\n",
       "      <td>owlh</td>\n",
       "      <td>Another Day in Paradise</td>\n",
       "    </tr>\n",
       "    <tr>\n",
       "      <th>32</th>\n",
       "      <td>32</td>\n",
       "      <td>owlh</td>\n",
       "      <td>Flowers</td>\n",
       "    </tr>\n",
       "    <tr>\n",
       "      <th>33</th>\n",
       "      <td>33</td>\n",
       "      <td>&lt;3BEAT</td>\n",
       "      <td>Love Story</td>\n",
       "    </tr>\n",
       "    <tr>\n",
       "      <th>34</th>\n",
       "      <td>34</td>\n",
       "      <td>Yedai</td>\n",
       "      <td>ANTI-HERO</td>\n",
       "    </tr>\n",
       "    <tr>\n",
       "      <th>35</th>\n",
       "      <td>35</td>\n",
       "      <td>&lt;3BEAT</td>\n",
       "      <td>Music For a Sushi Restaurant</td>\n",
       "    </tr>\n",
       "    <tr>\n",
       "      <th>36</th>\n",
       "      <td>36</td>\n",
       "      <td>LAV8</td>\n",
       "      <td>Pink + White</td>\n",
       "    </tr>\n",
       "    <tr>\n",
       "      <th>37</th>\n",
       "      <td>37</td>\n",
       "      <td>&lt;3BEAT</td>\n",
       "      <td>Passionfruit</td>\n",
       "    </tr>\n",
       "    <tr>\n",
       "      <th>38</th>\n",
       "      <td>38</td>\n",
       "      <td>LAV8</td>\n",
       "      <td>Jealous</td>\n",
       "    </tr>\n",
       "    <tr>\n",
       "      <th>39</th>\n",
       "      <td>39</td>\n",
       "      <td>Yedai</td>\n",
       "      <td>Dream a Little Dream of Me</td>\n",
       "    </tr>\n",
       "    <tr>\n",
       "      <th>40</th>\n",
       "      <td>40</td>\n",
       "      <td>lokash</td>\n",
       "      <td>Kill Bill</td>\n",
       "    </tr>\n",
       "    <tr>\n",
       "      <th>41</th>\n",
       "      <td>41</td>\n",
       "      <td>Miro Mas</td>\n",
       "      <td>My Love Mine All Mine</td>\n",
       "    </tr>\n",
       "    <tr>\n",
       "      <th>42</th>\n",
       "      <td>42</td>\n",
       "      <td>rosarummet</td>\n",
       "      <td>Lovely Day</td>\n",
       "    </tr>\n",
       "    <tr>\n",
       "      <th>43</th>\n",
       "      <td>43</td>\n",
       "      <td>Yedai</td>\n",
       "      <td>REMEMBER ME</td>\n",
       "    </tr>\n",
       "    <tr>\n",
       "      <th>44</th>\n",
       "      <td>44</td>\n",
       "      <td>&lt;3BEAT</td>\n",
       "      <td>I Had Some Help</td>\n",
       "    </tr>\n",
       "    <tr>\n",
       "      <th>45</th>\n",
       "      <td>45</td>\n",
       "      <td>Kamakuras</td>\n",
       "      <td>Mad World</td>\n",
       "    </tr>\n",
       "    <tr>\n",
       "      <th>46</th>\n",
       "      <td>46</td>\n",
       "      <td>Kamakuras</td>\n",
       "      <td>Mad World</td>\n",
       "    </tr>\n",
       "    <tr>\n",
       "      <th>47</th>\n",
       "      <td>47</td>\n",
       "      <td>rosarummet</td>\n",
       "      <td>die for you</td>\n",
       "    </tr>\n",
       "    <tr>\n",
       "      <th>48</th>\n",
       "      <td>48</td>\n",
       "      <td>rosarummet</td>\n",
       "      <td>ambler</td>\n",
       "    </tr>\n",
       "    <tr>\n",
       "      <th>49</th>\n",
       "      <td>49</td>\n",
       "      <td>LAV8</td>\n",
       "      <td>Sunflower</td>\n",
       "    </tr>\n",
       "  </tbody>\n",
       "</table>\n",
       "</div>"
      ],
      "text/plain": [
       "    id      artist                          name\n",
       "0    0        owlh                 One Last Time\n",
       "1    1       Yedai                 WHITE IVERSON\n",
       "2    2   Kamakuras                      Lovefool\n",
       "3    3      <3BEAT            Late Night Talking\n",
       "4    4      lokash                    Your Power\n",
       "5    5        owlh               Congratulations\n",
       "6    6        owlh               Congratulations\n",
       "7    7       Yedai                    LIGHTS OUT\n",
       "8    8    Miro Mas              End of Beginning\n",
       "9    9      lokash                          Rush\n",
       "10  10    Miro Mas                         Faded\n",
       "11  11      lokash   Eyes Blue Like The Atlantic\n",
       "12  12      <3BEAT  Only Love Can Hurt Like This\n",
       "13  13        owlh                  Talking Body\n",
       "14  14      lokash                       Trouble\n",
       "15  15   Kamakuras            Truly Madly Deeply\n",
       "16  16        owlh            you broke me first\n",
       "17  17      <3BEAT                   Young Folks\n",
       "18  18        LAV8               Californication\n",
       "19  19        owlh            Everytime We Touch\n",
       "20  20  rosarummet                  cruel summer\n",
       "21  21    Miro Mas                    Bad Habits\n",
       "22  22    Miro Mas                        greedy\n",
       "23  23     timbert                         Flute\n",
       "24  24      lokash               Super Rich Kids\n",
       "25  25    Miro Mas           California Dreamin'\n",
       "26  26     timbert                  timbert dies\n",
       "27  27        LAV8            I Want It That Way\n",
       "28  28      lokash         Bitter Sweet Symphony\n",
       "29  29      <3BEAT            Castle on the Hill\n",
       "30  30        owlh                         Magic\n",
       "31  31        owlh       Another Day in Paradise\n",
       "32  32        owlh                       Flowers\n",
       "33  33      <3BEAT                    Love Story\n",
       "34  34       Yedai                     ANTI-HERO\n",
       "35  35      <3BEAT  Music For a Sushi Restaurant\n",
       "36  36        LAV8                  Pink + White\n",
       "37  37      <3BEAT                  Passionfruit\n",
       "38  38        LAV8                       Jealous\n",
       "39  39       Yedai    Dream a Little Dream of Me\n",
       "40  40      lokash                     Kill Bill\n",
       "41  41    Miro Mas         My Love Mine All Mine\n",
       "42  42  rosarummet                    Lovely Day\n",
       "43  43       Yedai                   REMEMBER ME\n",
       "44  44      <3BEAT               I Had Some Help\n",
       "45  45   Kamakuras                     Mad World\n",
       "46  46   Kamakuras                     Mad World\n",
       "47  47  rosarummet                   die for you\n",
       "48  48  rosarummet                        ambler\n",
       "49  49        LAV8                     Sunflower"
      ]
     },
     "execution_count": 37,
     "metadata": {},
     "output_type": "execute_result"
    }
   ],
   "source": [
    "import pandas as pd\n",
    "trackDf = pd.DataFrame.from_dict(trackDict)\n",
    "trackDf"
   ]
  },
  {
   "cell_type": "markdown",
   "metadata": {},
   "source": [
    "### Saved Tracks"
   ]
  },
  {
   "cell_type": "code",
   "execution_count": 39,
   "metadata": {
    "tags": []
   },
   "outputs": [],
   "source": [
    "import spotipy\n",
    "from spotipy.oauth2 import SpotifyOAuth\n",
    "\n",
    "scope = \"user-library-read\"\n",
    "\n",
    "auth_user = SpotifyOAuth(scope=scope, username=username)\n",
    "auth_user.get_cached_token()"
   ]
  },
  {
   "cell_type": "code",
   "execution_count": 72,
   "metadata": {
    "tags": []
   },
   "outputs": [],
   "source": [
    "from spotipy import util\n",
    "token = util.prompt_for_user_token(username=username)"
   ]
  },
  {
   "cell_type": "code",
   "execution_count": 40,
   "metadata": {
    "tags": []
   },
   "outputs": [
    {
     "name": "stdout",
     "output_type": "stream",
     "text": [
      "0 Miley Cyrus  –  Flowers\n",
      "1 Jenifer  –  Les choses simples\n",
      "2 GIMS  –  Belle\n",
      "3 Vitaa  –  Je te le donne\n",
      "4 Henrik  –  Half of forever\n",
      "5 Miley Cyrus  –  Malibu\n",
      "6 Lil Nas X  –  INDUSTRY BABY (feat. Jack Harlow)\n",
      "7 Wanted Noise  –  War Pigs - Live At The Holding Company\n",
      "8 Therapie TAXI  –  Blesse-moi\n",
      "9 Véronique Sanson  –  Chanson sur ma drôle de vie - Remasterisé en 2008\n",
      "10 Aliocha Schneider  –  Ensemble\n",
      "11 Gracie Abrams  –  That’s So True\n",
      "12 Benson Boone  –  Sorry I'm Here for Someone Else\n",
      "13 Allie Sherlock  –  The Greatest\n",
      "14 Morgan Wallen  –  Just In Case\n",
      "15 Noah Cyrus  –  Don't Put It All On Me (feat. Fleet Foxes)\n",
      "16 Miley Cyrus  –  End of the World\n",
      "17 Lady Gaga  –  Die With A Smile\n",
      "18 Benson Boone  –  Beautiful Things\n",
      "19 Shawn Mendes  –  Heart of Gold\n"
     ]
    }
   ],
   "source": [
    "sp = spotipy.Spotify(auth_manager=auth_user)\n",
    "\n",
    "results = sp.current_user_saved_tracks()\n",
    "for idx, item in enumerate(results['items']):\n",
    "    track = item['track']\n",
    "    print(idx, track['artists'][0]['name'], \" – \", track['name'])"
   ]
  },
  {
   "cell_type": "code",
   "execution_count": 41,
   "metadata": {},
   "outputs": [],
   "source": [
    "import json\n",
    "with open(\"../data/saved_tracks_20250613.json\",\"w\") as f:\n",
    "    json.dump(results,f,indent=4)"
   ]
  },
  {
   "cell_type": "markdown",
   "metadata": {},
   "source": [
    "load previous results"
   ]
  },
  {
   "cell_type": "code",
   "execution_count": 42,
   "metadata": {},
   "outputs": [],
   "source": [
    "with open(\"../data/saved_tracks_20221103.json\",\"r\") as f:\n",
    "    results = json.load(f)"
   ]
  },
  {
   "cell_type": "code",
   "execution_count": 43,
   "metadata": {},
   "outputs": [
    {
     "data": {
      "text/plain": [
       "dict_keys(['album', 'artists', 'available_markets', 'disc_number', 'duration_ms', 'explicit', 'external_ids', 'external_urls', 'href', 'id', 'is_local', 'name', 'popularity', 'preview_url', 'track_number', 'type', 'uri'])"
      ]
     },
     "execution_count": 43,
     "metadata": {},
     "output_type": "execute_result"
    }
   ],
   "source": [
    "saved_tracks1 = results[\"items\"][0][\"track\"]\n",
    "saved_tracks1.keys()"
   ]
  },
  {
   "cell_type": "code",
   "execution_count": 44,
   "metadata": {},
   "outputs": [
    {
     "data": {
      "text/html": [
       "<div>\n",
       "<style scoped>\n",
       "    .dataframe tbody tr th:only-of-type {\n",
       "        vertical-align: middle;\n",
       "    }\n",
       "\n",
       "    .dataframe tbody tr th {\n",
       "        vertical-align: top;\n",
       "    }\n",
       "\n",
       "    .dataframe thead th {\n",
       "        text-align: right;\n",
       "    }\n",
       "</style>\n",
       "<table border=\"1\" class=\"dataframe\">\n",
       "  <thead>\n",
       "    <tr style=\"text-align: right;\">\n",
       "      <th></th>\n",
       "      <th>added_at</th>\n",
       "      <th>track</th>\n",
       "    </tr>\n",
       "  </thead>\n",
       "  <tbody>\n",
       "    <tr>\n",
       "      <th>0</th>\n",
       "      <td>2022-11-01T21:34:40Z</td>\n",
       "      <td>{'album': {'album_type': 'album', 'artists': [...</td>\n",
       "    </tr>\n",
       "    <tr>\n",
       "      <th>1</th>\n",
       "      <td>2022-10-31T12:16:36Z</td>\n",
       "      <td>{'album': {'album_type': 'album', 'artists': [...</td>\n",
       "    </tr>\n",
       "    <tr>\n",
       "      <th>2</th>\n",
       "      <td>2022-07-20T23:12:42Z</td>\n",
       "      <td>{'album': {'album_type': 'compilation', 'artis...</td>\n",
       "    </tr>\n",
       "    <tr>\n",
       "      <th>3</th>\n",
       "      <td>2022-06-25T09:58:36Z</td>\n",
       "      <td>{'album': {'album_type': 'album', 'artists': [...</td>\n",
       "    </tr>\n",
       "    <tr>\n",
       "      <th>4</th>\n",
       "      <td>2022-06-21T08:10:55Z</td>\n",
       "      <td>{'album': {'album_type': 'single', 'artists': ...</td>\n",
       "    </tr>\n",
       "  </tbody>\n",
       "</table>\n",
       "</div>"
      ],
      "text/plain": [
       "               added_at                                              track\n",
       "0  2022-11-01T21:34:40Z  {'album': {'album_type': 'album', 'artists': [...\n",
       "1  2022-10-31T12:16:36Z  {'album': {'album_type': 'album', 'artists': [...\n",
       "2  2022-07-20T23:12:42Z  {'album': {'album_type': 'compilation', 'artis...\n",
       "3  2022-06-25T09:58:36Z  {'album': {'album_type': 'album', 'artists': [...\n",
       "4  2022-06-21T08:10:55Z  {'album': {'album_type': 'single', 'artists': ..."
      ]
     },
     "execution_count": 44,
     "metadata": {},
     "output_type": "execute_result"
    }
   ],
   "source": [
    "import pandas as pd\n",
    "df = pd.DataFrame.from_dict(results[\"items\"])\n",
    "df.head(5)"
   ]
  },
  {
   "cell_type": "code",
   "execution_count": 45,
   "metadata": {},
   "outputs": [],
   "source": [
    "tracks = []\n",
    "for idx, item in enumerate(results['items']):\n",
    "    track = item['track']\n",
    "    tracks.append([idx, track['artists'][0]['name'], track['name']])"
   ]
  },
  {
   "cell_type": "code",
   "execution_count": 46,
   "metadata": {},
   "outputs": [
    {
     "data": {
      "text/plain": [
       "[[0, 'Janie', 'La Macarena'],\n",
       " [1,\n",
       "  'Lilly Wood and The Prick',\n",
       "  'Prayer In C (Robin Schulz Remix) [Radio Edit]'],\n",
       " [2,\n",
       "  'Pink Floyd',\n",
       "  'Shine On You Crazy Diamond (Parts 1 - 5) [Edit] [2011 Remastered Version]'],\n",
       " [3, 'Kate Bush', 'Running Up That Hill (A Deal With God)'],\n",
       " [4, 'Charlie Puth', 'Attention - Acoustic']]"
      ]
     },
     "execution_count": 46,
     "metadata": {},
     "output_type": "execute_result"
    }
   ],
   "source": [
    "tracks[0:5]"
   ]
  },
  {
   "cell_type": "markdown",
   "metadata": {},
   "source": [
    "### Saved Albums\n",
    "https://developer.spotify.com/console/get-current-user-saved-albums"
   ]
  },
  {
   "cell_type": "code",
   "execution_count": 48,
   "metadata": {
    "tags": []
   },
   "outputs": [
    {
     "name": "stdout",
     "output_type": "stream",
     "text": [
      "0 Miley Cyrus Something Beautiful\n",
      "1 Imagine Dragons Reflections (From The Vault Of Smoke + Mirrors)\n",
      "2 Taylor Swift Midnights\n",
      "3 Taylor Swift folklore\n",
      "4 Taylor Swift Red\n",
      "5 Joshua Radin ONE DAY HOME\n",
      "6 Ed Sheeran +-=÷× (Tour Collection: Live)\n",
      "7 Shawn Mendes Shawn\n",
      "8 Hans Zimmer LIVE\n",
      "9 James Bay Up All Night\n",
      "10 Imagine Dragons LOOM\n",
      "11 Taylor Swift THE TORTURED POETS DEPARTMENT\n",
      "12 Beyoncé COWBOY CARTER\n",
      "13 Justin Timberlake Everything I Thought It Was\n",
      "14 Sam Fischer This City\n",
      "15 Taylor Swift Speak Now (Taylor's Version)\n",
      "16 Rosa Linn Lay Your Hands Upon My Heart\n",
      "17 Janie La Macarena\n",
      "18 Lady Gaga Hold My Hand (Music From The Motion Picture \"Top Gun: Maverick\")\n",
      "19 The Cast of Netflix's Film tick, tick... BOOM! tick, tick... BOOM! (Soundtrack from the Netflix Film)\n"
     ]
    }
   ],
   "source": [
    "results = sp.current_user_saved_albums(limit=20)\n",
    "# results\n",
    "# results['items'][0]\n",
    "for idx, item in enumerate(results['items']):\n",
    "    album = item['album']\n",
    "    print(idx, album['artists'][0]['name'],album['name'])"
   ]
  },
  {
   "cell_type": "markdown",
   "metadata": {},
   "source": [
    "### Playlist\n",
    "https://developer.spotify.com/console/get-current-user-playlists/"
   ]
  },
  {
   "cell_type": "code",
   "execution_count": 29,
   "metadata": {
    "tags": []
   },
   "outputs": [
    {
     "name": "stdout",
     "output_type": "stream",
     "text": [
      "0 Laidback Acoustic  – public:  False\n",
      "1 Top 100 Play Music  – public:  True\n",
      "2 Acoustic Blues Country Guitar  – public:  True\n",
      "3 Piano Ballads  – public:  False\n",
      "4 Nelson Recommended Tracks  – public:  True\n",
      "5 Blind test  – public:  True\n",
      "6 Discover Weekly  – public:  False\n",
      "7 Sélection  – public:  True\n",
      "8 Radio-Favoriten  – public:  True\n",
      "9 Best  – public:  False\n",
      "10 First 36.7  – public:  False\n",
      "11 Gadz'Art  – public:  False\n",
      "12 House  – public:  False\n",
      "13 Jazz  – public:  False\n",
      "14 Muscu  – public:  False\n",
      "15 Musique films  – public:  False\n",
      "16 news  – public:  False\n",
      "17 On-the-go 1  – public:  False\n",
      "18 On-the-go 2  – public:  False\n",
      "19 On-the-go 3  – public:  False\n",
      "20 On-the-go 4  – public:  False\n",
      "21 On-the-go 5  – public:  False\n",
      "22 On-the-go 6  – public:  False\n",
      "23 Rap US  – public:  False\n",
      "24 Sands  – public:  False\n",
      "25 Scrubs  – public:  False\n",
      "26 Trance  – public:  False\n",
      "27 US variety  – public:  False\n",
      "28 We were here  – public:  False\n"
     ]
    }
   ],
   "source": [
    "scope = \"playlist-read-private\"\n",
    "\n",
    "auth_user = SpotifyOAuth(scope=scope, username=username)\n",
    "sp = spotipy.Spotify(auth_manager=auth_user)\n",
    "\n",
    "results = sp.current_user_playlists(limit=50)\n",
    "results['items'][0]\n",
    "for idx, item in enumerate(results['items']):\n",
    "    print(idx, item['name'], \" – public: \", item['public'])"
   ]
  },
  {
   "cell_type": "markdown",
   "metadata": {},
   "source": [
    "#### Add tracks to playlist"
   ]
  },
  {
   "cell_type": "code",
   "execution_count": 102,
   "metadata": {},
   "outputs": [
    {
     "data": {
      "text/html": [
       "<div>\n",
       "<style scoped>\n",
       "    .dataframe tbody tr th:only-of-type {\n",
       "        vertical-align: middle;\n",
       "    }\n",
       "\n",
       "    .dataframe tbody tr th {\n",
       "        vertical-align: top;\n",
       "    }\n",
       "\n",
       "    .dataframe thead th {\n",
       "        text-align: right;\n",
       "    }\n",
       "</style>\n",
       "<table border=\"1\" class=\"dataframe\">\n",
       "  <thead>\n",
       "    <tr style=\"text-align: right;\">\n",
       "      <th></th>\n",
       "      <th>title</th>\n",
       "      <th>album</th>\n",
       "      <th>artist</th>\n",
       "      <th>time</th>\n",
       "      <th>stars</th>\n",
       "      <th>played</th>\n",
       "      <th>deleted</th>\n",
       "      <th>id</th>\n",
       "    </tr>\n",
       "  </thead>\n",
       "  <tbody>\n",
       "    <tr>\n",
       "      <th>485</th>\n",
       "      <td>In the Sun</td>\n",
       "      <td>Grey&amp;#39;s Anatomy Soundtrack</td>\n",
       "      <td>Chris Martin ft. Michael Stipe</td>\n",
       "      <td>229000</td>\n",
       "      <td>5</td>\n",
       "      <td>71</td>\n",
       "      <td>NaN</td>\n",
       "      <td>2MLHyLy5z5l5YRp7momlgw</td>\n",
       "    </tr>\n",
       "    <tr>\n",
       "      <th>983</th>\n",
       "      <td>Some Kind Of Wonderful</td>\n",
       "      <td>Grand Theft Auto: San Andreas OST</td>\n",
       "      <td>Grand Funk Railroad</td>\n",
       "      <td>203000</td>\n",
       "      <td>4</td>\n",
       "      <td>70</td>\n",
       "      <td>NaN</td>\n",
       "      <td>1cU34sZG9kF4FYHCoAD0Ib</td>\n",
       "    </tr>\n",
       "    <tr>\n",
       "      <th>1111</th>\n",
       "      <td>Today</td>\n",
       "      <td>First between 3rd and 4th</td>\n",
       "      <td>Joshua Radin</td>\n",
       "      <td>217000</td>\n",
       "      <td>5</td>\n",
       "      <td>69</td>\n",
       "      <td>NaN</td>\n",
       "      <td>0u5aO1GYsIhAWCPuXdwnak</td>\n",
       "    </tr>\n",
       "    <tr>\n",
       "      <th>1237</th>\n",
       "      <td>You Know My Name</td>\n",
       "      <td>James Bond Themes</td>\n",
       "      <td>Chris Cornell</td>\n",
       "      <td>242466</td>\n",
       "      <td>4</td>\n",
       "      <td>58</td>\n",
       "      <td>NaN</td>\n",
       "      <td>0Dlm41iXvTsIVsEOce3yX6</td>\n",
       "    </tr>\n",
       "    <tr>\n",
       "      <th>263</th>\n",
       "      <td>Don&amp;#39;t panic</td>\n",
       "      <td>Garden state [Soundtrack]</td>\n",
       "      <td>Coldplay</td>\n",
       "      <td>137000</td>\n",
       "      <td>4</td>\n",
       "      <td>49</td>\n",
       "      <td>NaN</td>\n",
       "      <td>NaN</td>\n",
       "    </tr>\n",
       "  </tbody>\n",
       "</table>\n",
       "</div>"
      ],
      "text/plain": [
       "                       title                              album  \\\n",
       "485               In the Sun      Grey&#39;s Anatomy Soundtrack   \n",
       "983   Some Kind Of Wonderful  Grand Theft Auto: San Andreas OST   \n",
       "1111                   Today          First between 3rd and 4th   \n",
       "1237        You Know My Name                  James Bond Themes   \n",
       "263          Don&#39;t panic          Garden state [Soundtrack]   \n",
       "\n",
       "                              artist    time  stars  played  deleted  \\\n",
       "485   Chris Martin ft. Michael Stipe  229000      5      71      NaN   \n",
       "983              Grand Funk Railroad  203000      4      70      NaN   \n",
       "1111                    Joshua Radin  217000      5      69      NaN   \n",
       "1237                   Chris Cornell  242466      4      58      NaN   \n",
       "263                         Coldplay  137000      4      49      NaN   \n",
       "\n",
       "                          id  \n",
       "485   2MLHyLy5z5l5YRp7momlgw  \n",
       "983   1cU34sZG9kF4FYHCoAD0Ib  \n",
       "1111  0u5aO1GYsIhAWCPuXdwnak  \n",
       "1237  0Dlm41iXvTsIVsEOce3yX6  \n",
       "263                      NaN  "
      ]
     },
     "execution_count": 102,
     "metadata": {},
     "output_type": "execute_result"
    }
   ],
   "source": [
    "import pandas as pd\n",
    "\n",
    "top100 = pd.read_csv('top100id.csv',index_col=0)\n",
    "top100.head()"
   ]
  },
  {
   "cell_type": "code",
   "execution_count": 106,
   "metadata": {},
   "outputs": [
    {
     "data": {
      "text/plain": [
       "485     2MLHyLy5z5l5YRp7momlgw\n",
       "983     1cU34sZG9kF4FYHCoAD0Ib\n",
       "1111    0u5aO1GYsIhAWCPuXdwnak\n",
       "1237    0Dlm41iXvTsIVsEOce3yX6\n",
       "252     2M7UdnD0fEaryh8TnCvqFX\n",
       "                 ...          \n",
       "1000    5VaJ9leHPd2aDgvrGBMD39\n",
       "30      3H3cOQ6LBLSvmcaV7QkZEu\n",
       "1139    6a899bXlCuViXW2Qs8Rdqo\n",
       "250     5MbNAHqNksNDycMZ0WUaO5\n",
       "350     7asyVbwQE7IbA3x2be7bdI\n",
       "Name: id, Length: 81, dtype: object"
      ]
     },
     "execution_count": 106,
     "metadata": {},
     "output_type": "execute_result"
    }
   ],
   "source": [
    "track_id = top100.id\n",
    "track_id = track_id.dropna()\n",
    "track_id"
   ]
  },
  {
   "cell_type": "code",
   "execution_count": 107,
   "metadata": {
    "tags": []
   },
   "outputs": [
    {
     "data": {
      "text/plain": [
       "{'snapshot_id': 'MiwzNDFiYWM2ODM2ODU4YTc4OTNhMDZiODlkMWEzODQ1ODI0OGQ1Yjcw'}"
      ]
     },
     "execution_count": 107,
     "metadata": {},
     "output_type": "execute_result"
    }
   ],
   "source": [
    "scope = 'playlist-modify-public'\n",
    "\n",
    "auth_user = SpotifyOAuth(scope=scope, username=username)\n",
    "sp = spotipy.Spotify(auth_manager=auth_user)\n",
    "\n",
    "playlist_id = \"2hNrDKdSNh889LLYEmR1DK\"\n",
    "sp.playlist_add_items(playlist_id,track_id)"
   ]
  },
  {
   "cell_type": "code",
   "execution_count": 90,
   "metadata": {
    "tags": []
   },
   "outputs": [],
   "source": [
    "### Get playlist by Id\n",
    "import requests\n",
    "playlistId = \"2hNrDKdSNh889LLYEmR1DK\" # Top 100 Play Music\n",
    "playlistUrl = f\"https://api.spotify.com/v1/playlists/{playlistId}\"\n",
    "\n",
    "headers = {\n",
    "    \"Authorization\": \"Bearer \" + token\n",
    "}\n",
    "\n",
    "res = requests.get(url=playlistUrl, headers=headers)\n",
    "import json\n",
    "with open('playlist.json', 'w') as outfile:\n",
    "    json.dump(res.json(), outfile, indent=2)\n",
    "# print(json.dumps(res.json(), indent=2))"
   ]
  },
  {
   "cell_type": "markdown",
   "metadata": {},
   "source": [
    "## Parse Streaming History"
   ]
  },
  {
   "cell_type": "code",
   "execution_count": 81,
   "metadata": {},
   "outputs": [
    {
     "data": {
      "text/plain": [
       "{'endTime': '2020-06-10 16:56',\n",
       " 'artistName': 'Alphaville',\n",
       " 'trackName': 'Forever Young',\n",
       " 'msPlayed': 35538}"
      ]
     },
     "execution_count": 81,
     "metadata": {},
     "output_type": "execute_result"
    }
   ],
   "source": [
    "import ast\n",
    "from typing import List\n",
    "from os import listdir\n",
    "files = '../spotifyData/StreamingHistory0.json'\n",
    "\n",
    "all_streamings = []\n",
    "\n",
    "with open(files, 'r', encoding='UTF-8') as f:\n",
    "    new_streamings = ast.literal_eval(f.read())\n",
    "    all_streamings += [streaming for streaming \n",
    "                        in new_streamings]\n",
    "all_streamings[0]"
   ]
  },
  {
   "cell_type": "code",
   "execution_count": 82,
   "metadata": {},
   "outputs": [
    {
     "data": {
      "text/plain": [
       "'All Over Town'"
      ]
     },
     "execution_count": 82,
     "metadata": {},
     "output_type": "execute_result"
    }
   ],
   "source": [
    "unique_tracks = list(set([streaming['trackName'] \n",
    "                for streaming in all_streamings]))\n",
    "unique_tracks[0]"
   ]
  },
  {
   "cell_type": "code",
   "execution_count": 83,
   "metadata": {},
   "outputs": [],
   "source": [
    "import spotifyAPI\n",
    "\n",
    "all_features = {}\n",
    "for track in unique_tracks:\n",
    "    track_id = spotifyAPI.get_track_id(track, token)\n",
    "    features = spotifyAPI.get_features(track_id, token)\n",
    "    if features:\n",
    "        all_features[track] = features"
   ]
  },
  {
   "cell_type": "code",
   "execution_count": 84,
   "metadata": {},
   "outputs": [],
   "source": [
    "with_features = []\n",
    "for track_name, features in all_features.items():\n",
    "    with_features.append({'name': track_name, **features})"
   ]
  },
  {
   "cell_type": "code",
   "execution_count": 85,
   "metadata": {},
   "outputs": [],
   "source": [
    "import pandas as pd\n",
    "df = pd.DataFrame(with_features)\n",
    "df.to_csv('../data/streaming_history.csv')"
   ]
  },
  {
   "cell_type": "code",
   "execution_count": 86,
   "metadata": {},
   "outputs": [
    {
     "data": {
      "text/html": [
       "<div>\n",
       "<style scoped>\n",
       "    .dataframe tbody tr th:only-of-type {\n",
       "        vertical-align: middle;\n",
       "    }\n",
       "\n",
       "    .dataframe tbody tr th {\n",
       "        vertical-align: top;\n",
       "    }\n",
       "\n",
       "    .dataframe thead th {\n",
       "        text-align: right;\n",
       "    }\n",
       "</style>\n",
       "<table border=\"1\" class=\"dataframe\">\n",
       "  <thead>\n",
       "    <tr style=\"text-align: right;\">\n",
       "      <th></th>\n",
       "      <th>name</th>\n",
       "      <th>danceability</th>\n",
       "      <th>energy</th>\n",
       "      <th>key</th>\n",
       "      <th>loudness</th>\n",
       "      <th>mode</th>\n",
       "      <th>speechiness</th>\n",
       "      <th>acousticness</th>\n",
       "      <th>instrumentalness</th>\n",
       "      <th>liveness</th>\n",
       "      <th>valence</th>\n",
       "      <th>tempo</th>\n",
       "      <th>type</th>\n",
       "      <th>id</th>\n",
       "      <th>uri</th>\n",
       "      <th>track_href</th>\n",
       "      <th>analysis_url</th>\n",
       "      <th>duration_ms</th>\n",
       "      <th>time_signature</th>\n",
       "    </tr>\n",
       "  </thead>\n",
       "  <tbody>\n",
       "    <tr>\n",
       "      <th>0</th>\n",
       "      <td>All Over Town</td>\n",
       "      <td>0.582</td>\n",
       "      <td>0.236</td>\n",
       "      <td>8</td>\n",
       "      <td>-8.979</td>\n",
       "      <td>1</td>\n",
       "      <td>0.0311</td>\n",
       "      <td>0.8580</td>\n",
       "      <td>0.000000</td>\n",
       "      <td>0.0878</td>\n",
       "      <td>0.235</td>\n",
       "      <td>63.675</td>\n",
       "      <td>audio_features</td>\n",
       "      <td>1oz7yTFGbsZdoIL1u75d0O</td>\n",
       "      <td>spotify:track:1oz7yTFGbsZdoIL1u75d0O</td>\n",
       "      <td>https://api.spotify.com/v1/tracks/1oz7yTFGbsZd...</td>\n",
       "      <td>https://api.spotify.com/v1/audio-analysis/1oz7...</td>\n",
       "      <td>193742</td>\n",
       "      <td>4</td>\n",
       "    </tr>\n",
       "    <tr>\n",
       "      <th>1</th>\n",
       "      <td>Lost Stars</td>\n",
       "      <td>0.498</td>\n",
       "      <td>0.583</td>\n",
       "      <td>0</td>\n",
       "      <td>-4.762</td>\n",
       "      <td>1</td>\n",
       "      <td>0.0274</td>\n",
       "      <td>0.1050</td>\n",
       "      <td>0.000000</td>\n",
       "      <td>0.0698</td>\n",
       "      <td>0.400</td>\n",
       "      <td>82.071</td>\n",
       "      <td>audio_features</td>\n",
       "      <td>22VjpPvok4jeoRjWlQThZr</td>\n",
       "      <td>spotify:track:22VjpPvok4jeoRjWlQThZr</td>\n",
       "      <td>https://api.spotify.com/v1/tracks/22VjpPvok4je...</td>\n",
       "      <td>https://api.spotify.com/v1/audio-analysis/22Vj...</td>\n",
       "      <td>267920</td>\n",
       "      <td>4</td>\n",
       "    </tr>\n",
       "    <tr>\n",
       "      <th>2</th>\n",
       "      <td>Sous le vent</td>\n",
       "      <td>0.495</td>\n",
       "      <td>0.501</td>\n",
       "      <td>11</td>\n",
       "      <td>-7.511</td>\n",
       "      <td>1</td>\n",
       "      <td>0.0449</td>\n",
       "      <td>0.4990</td>\n",
       "      <td>0.000000</td>\n",
       "      <td>0.0973</td>\n",
       "      <td>0.303</td>\n",
       "      <td>140.616</td>\n",
       "      <td>audio_features</td>\n",
       "      <td>6VZB0ttlqGjpGMAcaomXh9</td>\n",
       "      <td>spotify:track:6VZB0ttlqGjpGMAcaomXh9</td>\n",
       "      <td>https://api.spotify.com/v1/tracks/6VZB0ttlqGjp...</td>\n",
       "      <td>https://api.spotify.com/v1/audio-analysis/6VZB...</td>\n",
       "      <td>211293</td>\n",
       "      <td>4</td>\n",
       "    </tr>\n",
       "    <tr>\n",
       "      <th>3</th>\n",
       "      <td>Hurricane</td>\n",
       "      <td>0.372</td>\n",
       "      <td>0.915</td>\n",
       "      <td>11</td>\n",
       "      <td>-4.577</td>\n",
       "      <td>1</td>\n",
       "      <td>0.0850</td>\n",
       "      <td>0.0640</td>\n",
       "      <td>0.000110</td>\n",
       "      <td>0.1260</td>\n",
       "      <td>0.466</td>\n",
       "      <td>91.124</td>\n",
       "      <td>audio_features</td>\n",
       "      <td>1SlLP2AI4L2oh3VRJfHBpf</td>\n",
       "      <td>spotify:track:1SlLP2AI4L2oh3VRJfHBpf</td>\n",
       "      <td>https://api.spotify.com/v1/tracks/1SlLP2AI4L2o...</td>\n",
       "      <td>https://api.spotify.com/v1/audio-analysis/1SlL...</td>\n",
       "      <td>153222</td>\n",
       "      <td>3</td>\n",
       "    </tr>\n",
       "    <tr>\n",
       "      <th>4</th>\n",
       "      <td>Knocking on Heavens Door</td>\n",
       "      <td>0.496</td>\n",
       "      <td>0.739</td>\n",
       "      <td>6</td>\n",
       "      <td>-7.193</td>\n",
       "      <td>1</td>\n",
       "      <td>0.0415</td>\n",
       "      <td>0.0211</td>\n",
       "      <td>0.004440</td>\n",
       "      <td>0.1060</td>\n",
       "      <td>0.378</td>\n",
       "      <td>132.410</td>\n",
       "      <td>audio_features</td>\n",
       "      <td>4JiEyzf0Md7KEFFGWDDdCr</td>\n",
       "      <td>spotify:track:4JiEyzf0Md7KEFFGWDDdCr</td>\n",
       "      <td>https://api.spotify.com/v1/tracks/4JiEyzf0Md7K...</td>\n",
       "      <td>https://api.spotify.com/v1/audio-analysis/4JiE...</td>\n",
       "      <td>336000</td>\n",
       "      <td>4</td>\n",
       "    </tr>\n",
       "    <tr>\n",
       "      <th>...</th>\n",
       "      <td>...</td>\n",
       "      <td>...</td>\n",
       "      <td>...</td>\n",
       "      <td>...</td>\n",
       "      <td>...</td>\n",
       "      <td>...</td>\n",
       "      <td>...</td>\n",
       "      <td>...</td>\n",
       "      <td>...</td>\n",
       "      <td>...</td>\n",
       "      <td>...</td>\n",
       "      <td>...</td>\n",
       "      <td>...</td>\n",
       "      <td>...</td>\n",
       "      <td>...</td>\n",
       "      <td>...</td>\n",
       "      <td>...</td>\n",
       "      <td>...</td>\n",
       "      <td>...</td>\n",
       "    </tr>\n",
       "    <tr>\n",
       "      <th>60</th>\n",
       "      <td>Be Yourself</td>\n",
       "      <td>0.423</td>\n",
       "      <td>0.845</td>\n",
       "      <td>11</td>\n",
       "      <td>-3.509</td>\n",
       "      <td>0</td>\n",
       "      <td>0.0559</td>\n",
       "      <td>0.1430</td>\n",
       "      <td>0.000005</td>\n",
       "      <td>0.2130</td>\n",
       "      <td>0.317</td>\n",
       "      <td>116.602</td>\n",
       "      <td>audio_features</td>\n",
       "      <td>3zwmW1gM4E8FlHXV5nE16u</td>\n",
       "      <td>spotify:track:3zwmW1gM4E8FlHXV5nE16u</td>\n",
       "      <td>https://api.spotify.com/v1/tracks/3zwmW1gM4E8F...</td>\n",
       "      <td>https://api.spotify.com/v1/audio-analysis/3zwm...</td>\n",
       "      <td>278973</td>\n",
       "      <td>4</td>\n",
       "    </tr>\n",
       "    <tr>\n",
       "      <th>61</th>\n",
       "      <td>Take Five</td>\n",
       "      <td>0.454</td>\n",
       "      <td>0.260</td>\n",
       "      <td>8</td>\n",
       "      <td>-13.193</td>\n",
       "      <td>0</td>\n",
       "      <td>0.0401</td>\n",
       "      <td>0.5390</td>\n",
       "      <td>0.000780</td>\n",
       "      <td>0.0675</td>\n",
       "      <td>0.598</td>\n",
       "      <td>174.322</td>\n",
       "      <td>audio_features</td>\n",
       "      <td>1YQWosTIljIvxAgHWTp7KP</td>\n",
       "      <td>spotify:track:1YQWosTIljIvxAgHWTp7KP</td>\n",
       "      <td>https://api.spotify.com/v1/tracks/1YQWosTIljIv...</td>\n",
       "      <td>https://api.spotify.com/v1/audio-analysis/1YQW...</td>\n",
       "      <td>324133</td>\n",
       "      <td>5</td>\n",
       "    </tr>\n",
       "    <tr>\n",
       "      <th>62</th>\n",
       "      <td>Flake</td>\n",
       "      <td>0.758</td>\n",
       "      <td>0.654</td>\n",
       "      <td>5</td>\n",
       "      <td>-10.980</td>\n",
       "      <td>1</td>\n",
       "      <td>0.0400</td>\n",
       "      <td>0.6620</td>\n",
       "      <td>0.019700</td>\n",
       "      <td>0.1990</td>\n",
       "      <td>0.962</td>\n",
       "      <td>97.657</td>\n",
       "      <td>audio_features</td>\n",
       "      <td>7hOXiS6kDP4vYIh9DBsNgK</td>\n",
       "      <td>spotify:track:7hOXiS6kDP4vYIh9DBsNgK</td>\n",
       "      <td>https://api.spotify.com/v1/tracks/7hOXiS6kDP4v...</td>\n",
       "      <td>https://api.spotify.com/v1/audio-analysis/7hOX...</td>\n",
       "      <td>281749</td>\n",
       "      <td>4</td>\n",
       "    </tr>\n",
       "    <tr>\n",
       "      <th>63</th>\n",
       "      <td>Californication</td>\n",
       "      <td>0.592</td>\n",
       "      <td>0.767</td>\n",
       "      <td>9</td>\n",
       "      <td>-2.788</td>\n",
       "      <td>0</td>\n",
       "      <td>0.0270</td>\n",
       "      <td>0.0021</td>\n",
       "      <td>0.001650</td>\n",
       "      <td>0.1270</td>\n",
       "      <td>0.328</td>\n",
       "      <td>96.483</td>\n",
       "      <td>audio_features</td>\n",
       "      <td>48UPSzbZjgc449aqz8bxox</td>\n",
       "      <td>spotify:track:48UPSzbZjgc449aqz8bxox</td>\n",
       "      <td>https://api.spotify.com/v1/tracks/48UPSzbZjgc4...</td>\n",
       "      <td>https://api.spotify.com/v1/audio-analysis/48UP...</td>\n",
       "      <td>329733</td>\n",
       "      <td>4</td>\n",
       "    </tr>\n",
       "    <tr>\n",
       "      <th>64</th>\n",
       "      <td>A Horse with No Name</td>\n",
       "      <td>0.654</td>\n",
       "      <td>0.506</td>\n",
       "      <td>11</td>\n",
       "      <td>-17.180</td>\n",
       "      <td>0</td>\n",
       "      <td>0.0535</td>\n",
       "      <td>0.6860</td>\n",
       "      <td>0.015500</td>\n",
       "      <td>0.1550</td>\n",
       "      <td>0.831</td>\n",
       "      <td>123.179</td>\n",
       "      <td>audio_features</td>\n",
       "      <td>54eZmuggBFJbV7k248bTTt</td>\n",
       "      <td>spotify:track:54eZmuggBFJbV7k248bTTt</td>\n",
       "      <td>https://api.spotify.com/v1/tracks/54eZmuggBFJb...</td>\n",
       "      <td>https://api.spotify.com/v1/audio-analysis/54eZ...</td>\n",
       "      <td>252240</td>\n",
       "      <td>4</td>\n",
       "    </tr>\n",
       "  </tbody>\n",
       "</table>\n",
       "<p>65 rows × 19 columns</p>\n",
       "</div>"
      ],
      "text/plain": [
       "                        name  danceability  energy  key  loudness  mode  \\\n",
       "0              All Over Town         0.582   0.236    8    -8.979     1   \n",
       "1                 Lost Stars         0.498   0.583    0    -4.762     1   \n",
       "2               Sous le vent         0.495   0.501   11    -7.511     1   \n",
       "3                  Hurricane         0.372   0.915   11    -4.577     1   \n",
       "4   Knocking on Heavens Door         0.496   0.739    6    -7.193     1   \n",
       "..                       ...           ...     ...  ...       ...   ...   \n",
       "60               Be Yourself         0.423   0.845   11    -3.509     0   \n",
       "61                 Take Five         0.454   0.260    8   -13.193     0   \n",
       "62                     Flake         0.758   0.654    5   -10.980     1   \n",
       "63           Californication         0.592   0.767    9    -2.788     0   \n",
       "64      A Horse with No Name         0.654   0.506   11   -17.180     0   \n",
       "\n",
       "    speechiness  acousticness  instrumentalness  liveness  valence    tempo  \\\n",
       "0        0.0311        0.8580          0.000000    0.0878    0.235   63.675   \n",
       "1        0.0274        0.1050          0.000000    0.0698    0.400   82.071   \n",
       "2        0.0449        0.4990          0.000000    0.0973    0.303  140.616   \n",
       "3        0.0850        0.0640          0.000110    0.1260    0.466   91.124   \n",
       "4        0.0415        0.0211          0.004440    0.1060    0.378  132.410   \n",
       "..          ...           ...               ...       ...      ...      ...   \n",
       "60       0.0559        0.1430          0.000005    0.2130    0.317  116.602   \n",
       "61       0.0401        0.5390          0.000780    0.0675    0.598  174.322   \n",
       "62       0.0400        0.6620          0.019700    0.1990    0.962   97.657   \n",
       "63       0.0270        0.0021          0.001650    0.1270    0.328   96.483   \n",
       "64       0.0535        0.6860          0.015500    0.1550    0.831  123.179   \n",
       "\n",
       "              type                      id  \\\n",
       "0   audio_features  1oz7yTFGbsZdoIL1u75d0O   \n",
       "1   audio_features  22VjpPvok4jeoRjWlQThZr   \n",
       "2   audio_features  6VZB0ttlqGjpGMAcaomXh9   \n",
       "3   audio_features  1SlLP2AI4L2oh3VRJfHBpf   \n",
       "4   audio_features  4JiEyzf0Md7KEFFGWDDdCr   \n",
       "..             ...                     ...   \n",
       "60  audio_features  3zwmW1gM4E8FlHXV5nE16u   \n",
       "61  audio_features  1YQWosTIljIvxAgHWTp7KP   \n",
       "62  audio_features  7hOXiS6kDP4vYIh9DBsNgK   \n",
       "63  audio_features  48UPSzbZjgc449aqz8bxox   \n",
       "64  audio_features  54eZmuggBFJbV7k248bTTt   \n",
       "\n",
       "                                     uri  \\\n",
       "0   spotify:track:1oz7yTFGbsZdoIL1u75d0O   \n",
       "1   spotify:track:22VjpPvok4jeoRjWlQThZr   \n",
       "2   spotify:track:6VZB0ttlqGjpGMAcaomXh9   \n",
       "3   spotify:track:1SlLP2AI4L2oh3VRJfHBpf   \n",
       "4   spotify:track:4JiEyzf0Md7KEFFGWDDdCr   \n",
       "..                                   ...   \n",
       "60  spotify:track:3zwmW1gM4E8FlHXV5nE16u   \n",
       "61  spotify:track:1YQWosTIljIvxAgHWTp7KP   \n",
       "62  spotify:track:7hOXiS6kDP4vYIh9DBsNgK   \n",
       "63  spotify:track:48UPSzbZjgc449aqz8bxox   \n",
       "64  spotify:track:54eZmuggBFJbV7k248bTTt   \n",
       "\n",
       "                                           track_href  \\\n",
       "0   https://api.spotify.com/v1/tracks/1oz7yTFGbsZd...   \n",
       "1   https://api.spotify.com/v1/tracks/22VjpPvok4je...   \n",
       "2   https://api.spotify.com/v1/tracks/6VZB0ttlqGjp...   \n",
       "3   https://api.spotify.com/v1/tracks/1SlLP2AI4L2o...   \n",
       "4   https://api.spotify.com/v1/tracks/4JiEyzf0Md7K...   \n",
       "..                                                ...   \n",
       "60  https://api.spotify.com/v1/tracks/3zwmW1gM4E8F...   \n",
       "61  https://api.spotify.com/v1/tracks/1YQWosTIljIv...   \n",
       "62  https://api.spotify.com/v1/tracks/7hOXiS6kDP4v...   \n",
       "63  https://api.spotify.com/v1/tracks/48UPSzbZjgc4...   \n",
       "64  https://api.spotify.com/v1/tracks/54eZmuggBFJb...   \n",
       "\n",
       "                                         analysis_url  duration_ms  \\\n",
       "0   https://api.spotify.com/v1/audio-analysis/1oz7...       193742   \n",
       "1   https://api.spotify.com/v1/audio-analysis/22Vj...       267920   \n",
       "2   https://api.spotify.com/v1/audio-analysis/6VZB...       211293   \n",
       "3   https://api.spotify.com/v1/audio-analysis/1SlL...       153222   \n",
       "4   https://api.spotify.com/v1/audio-analysis/4JiE...       336000   \n",
       "..                                                ...          ...   \n",
       "60  https://api.spotify.com/v1/audio-analysis/3zwm...       278973   \n",
       "61  https://api.spotify.com/v1/audio-analysis/1YQW...       324133   \n",
       "62  https://api.spotify.com/v1/audio-analysis/7hOX...       281749   \n",
       "63  https://api.spotify.com/v1/audio-analysis/48UP...       329733   \n",
       "64  https://api.spotify.com/v1/audio-analysis/54eZ...       252240   \n",
       "\n",
       "    time_signature  \n",
       "0                4  \n",
       "1                4  \n",
       "2                4  \n",
       "3                3  \n",
       "4                4  \n",
       "..             ...  \n",
       "60               4  \n",
       "61               5  \n",
       "62               4  \n",
       "63               4  \n",
       "64               4  \n",
       "\n",
       "[65 rows x 19 columns]"
      ]
     },
     "execution_count": 86,
     "metadata": {},
     "output_type": "execute_result"
    }
   ],
   "source": [
    "df"
   ]
  },
  {
   "cell_type": "markdown",
   "metadata": {},
   "source": [
    "## Music Taste Analysis\n",
    "Inspiration:\n",
    "* [article](https://towardsdatascience.com/a-music-taste-analysis-using-spotify-api-and-python-e52d186db5fc)\n",
    "* [repo](https://github.com/jmcabreira/A-Music-Taste-Analysis-Using-Spotify-API-and-Python.)"
   ]
  },
  {
   "cell_type": "code",
   "execution_count": 87,
   "metadata": {},
   "outputs": [
    {
     "data": {
      "text/html": [
       "<div>\n",
       "<style scoped>\n",
       "    .dataframe tbody tr th:only-of-type {\n",
       "        vertical-align: middle;\n",
       "    }\n",
       "\n",
       "    .dataframe tbody tr th {\n",
       "        vertical-align: top;\n",
       "    }\n",
       "\n",
       "    .dataframe thead th {\n",
       "        text-align: right;\n",
       "    }\n",
       "</style>\n",
       "<table border=\"1\" class=\"dataframe\">\n",
       "  <thead>\n",
       "    <tr style=\"text-align: right;\">\n",
       "      <th></th>\n",
       "      <th>acousticness</th>\n",
       "      <th>danceability</th>\n",
       "      <th>energy</th>\n",
       "      <th>instrumentalness</th>\n",
       "      <th>liveness</th>\n",
       "      <th>speechiness</th>\n",
       "      <th>valence</th>\n",
       "    </tr>\n",
       "  </thead>\n",
       "  <tbody>\n",
       "    <tr>\n",
       "      <th>0</th>\n",
       "      <td>0.8580</td>\n",
       "      <td>0.582</td>\n",
       "      <td>0.236</td>\n",
       "      <td>0.000000</td>\n",
       "      <td>0.0878</td>\n",
       "      <td>0.0311</td>\n",
       "      <td>0.235</td>\n",
       "    </tr>\n",
       "    <tr>\n",
       "      <th>1</th>\n",
       "      <td>0.1050</td>\n",
       "      <td>0.498</td>\n",
       "      <td>0.583</td>\n",
       "      <td>0.000000</td>\n",
       "      <td>0.0698</td>\n",
       "      <td>0.0274</td>\n",
       "      <td>0.400</td>\n",
       "    </tr>\n",
       "    <tr>\n",
       "      <th>2</th>\n",
       "      <td>0.4990</td>\n",
       "      <td>0.495</td>\n",
       "      <td>0.501</td>\n",
       "      <td>0.000000</td>\n",
       "      <td>0.0973</td>\n",
       "      <td>0.0449</td>\n",
       "      <td>0.303</td>\n",
       "    </tr>\n",
       "    <tr>\n",
       "      <th>3</th>\n",
       "      <td>0.0640</td>\n",
       "      <td>0.372</td>\n",
       "      <td>0.915</td>\n",
       "      <td>0.000110</td>\n",
       "      <td>0.1260</td>\n",
       "      <td>0.0850</td>\n",
       "      <td>0.466</td>\n",
       "    </tr>\n",
       "    <tr>\n",
       "      <th>4</th>\n",
       "      <td>0.0211</td>\n",
       "      <td>0.496</td>\n",
       "      <td>0.739</td>\n",
       "      <td>0.004440</td>\n",
       "      <td>0.1060</td>\n",
       "      <td>0.0415</td>\n",
       "      <td>0.378</td>\n",
       "    </tr>\n",
       "    <tr>\n",
       "      <th>...</th>\n",
       "      <td>...</td>\n",
       "      <td>...</td>\n",
       "      <td>...</td>\n",
       "      <td>...</td>\n",
       "      <td>...</td>\n",
       "      <td>...</td>\n",
       "      <td>...</td>\n",
       "    </tr>\n",
       "    <tr>\n",
       "      <th>60</th>\n",
       "      <td>0.1430</td>\n",
       "      <td>0.423</td>\n",
       "      <td>0.845</td>\n",
       "      <td>0.000005</td>\n",
       "      <td>0.2130</td>\n",
       "      <td>0.0559</td>\n",
       "      <td>0.317</td>\n",
       "    </tr>\n",
       "    <tr>\n",
       "      <th>61</th>\n",
       "      <td>0.5390</td>\n",
       "      <td>0.454</td>\n",
       "      <td>0.260</td>\n",
       "      <td>0.000780</td>\n",
       "      <td>0.0675</td>\n",
       "      <td>0.0401</td>\n",
       "      <td>0.598</td>\n",
       "    </tr>\n",
       "    <tr>\n",
       "      <th>62</th>\n",
       "      <td>0.6620</td>\n",
       "      <td>0.758</td>\n",
       "      <td>0.654</td>\n",
       "      <td>0.019700</td>\n",
       "      <td>0.1990</td>\n",
       "      <td>0.0400</td>\n",
       "      <td>0.962</td>\n",
       "    </tr>\n",
       "    <tr>\n",
       "      <th>63</th>\n",
       "      <td>0.0021</td>\n",
       "      <td>0.592</td>\n",
       "      <td>0.767</td>\n",
       "      <td>0.001650</td>\n",
       "      <td>0.1270</td>\n",
       "      <td>0.0270</td>\n",
       "      <td>0.328</td>\n",
       "    </tr>\n",
       "    <tr>\n",
       "      <th>64</th>\n",
       "      <td>0.6860</td>\n",
       "      <td>0.654</td>\n",
       "      <td>0.506</td>\n",
       "      <td>0.015500</td>\n",
       "      <td>0.1550</td>\n",
       "      <td>0.0535</td>\n",
       "      <td>0.831</td>\n",
       "    </tr>\n",
       "  </tbody>\n",
       "</table>\n",
       "<p>65 rows × 7 columns</p>\n",
       "</div>"
      ],
      "text/plain": [
       "    acousticness  danceability  energy  instrumentalness  liveness  \\\n",
       "0         0.8580         0.582   0.236          0.000000    0.0878   \n",
       "1         0.1050         0.498   0.583          0.000000    0.0698   \n",
       "2         0.4990         0.495   0.501          0.000000    0.0973   \n",
       "3         0.0640         0.372   0.915          0.000110    0.1260   \n",
       "4         0.0211         0.496   0.739          0.004440    0.1060   \n",
       "..           ...           ...     ...               ...       ...   \n",
       "60        0.1430         0.423   0.845          0.000005    0.2130   \n",
       "61        0.5390         0.454   0.260          0.000780    0.0675   \n",
       "62        0.6620         0.758   0.654          0.019700    0.1990   \n",
       "63        0.0021         0.592   0.767          0.001650    0.1270   \n",
       "64        0.6860         0.654   0.506          0.015500    0.1550   \n",
       "\n",
       "    speechiness  valence  \n",
       "0        0.0311    0.235  \n",
       "1        0.0274    0.400  \n",
       "2        0.0449    0.303  \n",
       "3        0.0850    0.466  \n",
       "4        0.0415    0.378  \n",
       "..          ...      ...  \n",
       "60       0.0559    0.317  \n",
       "61       0.0401    0.598  \n",
       "62       0.0400    0.962  \n",
       "63       0.0270    0.328  \n",
       "64       0.0535    0.831  \n",
       "\n",
       "[65 rows x 7 columns]"
      ]
     },
     "execution_count": 87,
     "metadata": {},
     "output_type": "execute_result"
    }
   ],
   "source": [
    "features = df.loc[: ,['acousticness', 'danceability', 'energy', 'instrumentalness', 'liveness', 'speechiness', 'valence']]\n",
    "features"
   ]
  },
  {
   "cell_type": "code",
   "execution_count": 88,
   "metadata": {},
   "outputs": [
    {
     "data": {
      "text/plain": [
       "<matplotlib.legend.Legend at 0x18fad9fe5e0>"
      ]
     },
     "execution_count": 88,
     "metadata": {},
     "output_type": "execute_result"
    },
    {
     "data": {
      "image/png": "[encoded data removed]",
      "text/plain": [
       "<Figure size 1800x1800 with 1 Axes>"
      ]
     },
     "metadata": {},
     "output_type": "display_data"
    }
   ],
   "source": [
    "#Import Libraries\n",
    "import numpy as np\n",
    "import matplotlib.pyplot as plt\n",
    "\n",
    "labels= list(features)[:]\n",
    "stats= features.mean().tolist()\n",
    "\n",
    "angles=np.linspace(0, 2*np.pi, len(labels), endpoint=False)\n",
    "\n",
    "# close the plot\n",
    "stats=np.concatenate((stats,[stats[0]]))\n",
    "angles=np.concatenate((angles,[angles[0]]))\n",
    "\n",
    "#Size of the figure\n",
    "fig=plt.figure(figsize = (18,18))\n",
    "\n",
    "ax = fig.add_subplot(221, polar=True)\n",
    "ax.plot(angles, stats, 'o-', linewidth=2, label = \"Features\", color= 'gray')\n",
    "ax.fill(angles, stats, alpha=0.25, facecolor='gray')\n",
    "ax.set_thetagrids(angles[0:7] * 180/np.pi, labels , fontsize = 13)\n",
    "\n",
    "\n",
    "ax.set_rlabel_position(250)\n",
    "plt.yticks([0.2 , 0.4 , 0.6 , 0.8  ], [\"0.2\",'0.4', \"0.6\", \"0.8\"], color=\"grey\", size=12)\n",
    "plt.ylim(0,1)\n",
    "\n",
    "plt.legend(loc='best', bbox_to_anchor=(0.1, 0.1))\n"
   ]
  }
 ],
 "metadata": {
  "kernelspec": {
   "display_name": "Python 3",
   "language": "python",
   "name": "python3"
  },
  "language_info": {
   "codemirror_mode": {
    "name": "ipython",
    "version": 3
   },
   "file_extension": ".py",
   "mimetype": "text/x-python",
   "name": "python",
   "nbconvert_exporter": "python",
   "pygments_lexer": "ipython3",
   "version": "3.12.1"
  },
  "orig_nbformat": 2
 },
 "nbformat": 4,
 "nbformat_minor": 2
}
